{
  "nbformat": 4,
  "nbformat_minor": 0,
  "metadata": {
    "colab": {
      "provenance": [],
      "authorship_tag": "ABX9TyN/lNZdpDaP+YE1SQyYtE8f",
      "include_colab_link": true
    },
    "kernelspec": {
      "name": "python3",
      "display_name": "Python 3"
    },
    "language_info": {
      "name": "python"
    }
  },
  "cells": [
    {
      "cell_type": "markdown",
      "metadata": {
        "id": "view-in-github",
        "colab_type": "text"
      },
      "source": [
        "<a href=\"https://colab.research.google.com/github/mhtattersall/Python/blob/main/Classes.ipynb\" target=\"_parent\"><img src=\"https://colab.research.google.com/assets/colab-badge.svg\" alt=\"Open In Colab\"/></a>"
      ]
    },
    {
      "cell_type": "code",
      "source": [
        "# a class is a template for creating objects. Every object in python has an associated class.\n",
        "# it defines the attributes, properties and methods that all objects of that class will have.\n",
        "# strings, lists, ints etc are pre-defined classes.  You can also declare your own classes.\n",
        "# attributes are variables that hold data. These can be accessed with dot notation eg. person1.name\n",
        "# properties are attributes that have setters or getters - part of the concept of encapsulation\n",
        "# properties allow you to restrict direct access to attributes and provides methods to access and modify them instead\n",
        "# methods are functions that perform actions. These can be called with dot notation and parentheses eg. person.say_hello()\n",
        "# methods should use or change one or more an object's data attributes.\n",
        "# mostly we call functions or access attributes from classes that have already been created and stored in libraries e.g. pandas\n",
        "# so we need to know how to access these objects and their associated attributes and functions\n",
        "# a double underscore is referred to as \"dunder\", as in dunder method."
      ],
      "metadata": {
        "id": "jsRHFgMWaw3W"
      },
      "execution_count": null,
      "outputs": []
    },
    {
      "cell_type": "code",
      "source": [
        "# An object is a group of related data/variables and functions.\n",
        "# In Python every object has an associated class. A class is a specification for a category of object\n",
        "# An object's data/varibales are referred to as attributes.\n",
        "# Functions associated with the object are referred to as methods.\n",
        "# An object's attributes are accessed using the dot notation <object>.<attribute>.\n",
        "# The dir() bif returns the list of attibutes for an object.\n",
        "# Example:\n",
        "my_string = \"Hello\"\n",
        "dir(my_string) # returns attributes of a string object\n",
        "# bool, int, float, complex, str and tuple are immutable objects; list, dict and set are mutable.\n",
        "# changes made to immutable objects create new objects or an error."
      ],
      "metadata": {
        "id": "SsAVxcO2YaFx"
      },
      "execution_count": null,
      "outputs": []
    },
    {
      "cell_type": "code",
      "source": [
        "# a class is declared using the class keyword.\n",
        "# define a class, with pass it allows us to define an empty class.\n",
        "import pandas as pd\n",
        "class Person:\n",
        "  pass\n",
        "print(type(Person)) # returns the type of the Person class, which is the metaclass 'type'.\n",
        "print(Person.__module__) # returns the module in which the House class is defined.\n",
        "print(pd.DataFrame.__module__) # returns the pandas core frame module."
      ],
      "metadata": {
        "id": "pNqGqSUWkTao",
        "colab": {
          "base_uri": "https://localhost:8080/"
        },
        "outputId": "48bcb285-989a-4443-82b8-63cbebe95769"
      },
      "execution_count": null,
      "outputs": [
        {
          "output_type": "stream",
          "name": "stdout",
          "text": [
            "<class 'type'>\n",
            "__main__\n",
            "pandas.core.frame\n"
          ]
        }
      ]
    },
    {
      "cell_type": "code",
      "source": [
        "# The class keyword is used to declare a class.\n",
        "# Class names use the CapWords convention.\n",
        "# you can define variables inside a method, which are known as instance variables.\n",
        "# the __init__ () is a special (dunder) method that gets called to initialize the attributes of the object.\n",
        "# if certain attributes cannot be left empty, we can add these parameters to the __init__ method.\n",
        "# In addition to 'self' (an automatic reference to the object), the init method takes 2 arguments (name, age) and assigns them to instance variables in order.\n",
        "# we must now provide a name and age when we create a Person object:\n",
        "class Person:\n",
        "    def __init__(self, name, age):\n",
        "      self.name = name # these variables will be particular to each object of the class\n",
        "      self.age = age\n",
        "\n",
        "    def say_hello(self): # define an instance method\n",
        "        print(\"Hello, my name is\", self.name)\n",
        "\n",
        "    # the __str__ method overides the default behaviour of the print bif in creating a string representation of an object.\n",
        "    def __str__(self):  # define a string method to describe an object:\n",
        "        return f'Person(Name is {self.name}; Age is {self.age})'\n",
        "# to instantiate a create a person object, call the class name as if it were a function Person(). person_1 can be thought of as self\n",
        "person_1 = Person(\"John\",30)\n",
        "# access an object's attributes\n",
        "print(person_1.name)\n",
        "print(person_1)\n",
        "# to change the value of a data attribute, reassign it:\n",
        "person_1.name = \"Jane\"\n",
        "print(person_1.name)\n",
        "# call the class method for person object\n",
        "person_1.say_hello()\n",
        "# the __dict__ special in-built attribute provides a dictionary containing all attributes of an object.\n",
        "# call the special __dict__ attribute\n",
        "print(person_1.__dict__)"
      ],
      "metadata": {
        "colab": {
          "base_uri": "https://localhost:8080/"
        },
        "id": "wLPX5UqBngQK",
        "outputId": "60292e6b-a826-4e25-9d50-5b24c6808d77"
      },
      "execution_count": null,
      "outputs": [
        {
          "output_type": "stream",
          "name": "stdout",
          "text": [
            "John\n",
            "Person(Name is John; Age is 30)\n",
            "Jane\n",
            "Hello, my name is Jane\n",
            "{'name': 'Jane', 'age': 30}\n"
          ]
        }
      ]
    },
    {
      "cell_type": "code",
      "source": [
        "# dunder methods, aka magic methods, special methods\n",
        "# Enable you to customise the behaviour of your classes, making your objects act more like built-in Python types.\n",
        "# In Python, with classed, every operator is associated with a dunder method, which allows you to define/customise how your class interacts with that operator.\n",
        "# dunder methods are prefixed and suffixed with 2 underscores. They are not meant to be called directly.\n",
        "# __new__ controls instance creation\n",
        "# __init__ initializes the instance\n",
        "# __str__ defines string representation\n",
        "# __int__ converts an object to an integer\n",
        "# __len__ returns object length\n",
        "# __call__ makes an instance callable\n",
        "# __getitem__ allows indexing\n",
        "# __setitem__ enables item assignment\n",
        "# __delitem__ handles item deletion\n",
        "# __contains__ implements membership check (in operator)\n",
        "# __bool__ defines boolean evaluation\n",
        "# __iter__ it makes an object iterable\n",
        "# __eq__ defines equality comparison (==)\n",
        "# __ne__ defines inequality comparison (!=)\n",
        "# __gt__ implements greater-than (>)\n",
        "# __add__ defines addition behaviour (+)\n",
        "# __mul__ implements multiplication (*)\n",
        "# __abs__ defines absolute value behaviour (abs(obj))\n",
        "# __neg__ implements negation (-obj)\n",
        "# __invert__ implements bitwise inversion (~obj)"
      ],
      "metadata": {
        "id": "mpc-U-qnF_Vj"
      },
      "execution_count": null,
      "outputs": []
    },
    {
      "cell_type": "code",
      "source": [
        "# Python classes can be used to set up a database schema\n",
        "# Each class woudl represent a table, and the class attributes represent fields (columns) in the table.\n",
        "# For simple projects or learning purposes consider using sqlite3.\n",
        "# For more complex projects with relationships, scalability, or more advanced querying: Use an ORM like SQLAlchemy or Django."
      ],
      "metadata": {
        "id": "1z6LeXfMTaca"
      },
      "execution_count": null,
      "outputs": []
    },
    {
      "cell_type": "code",
      "source": [
        "# setattr() is a built-in function used to set the value of an attribute on an object.\n",
        "# setattr('object','attribute_name','attribute_value')\n",
        "# setattr() is particularly useful when you want to dynamically set attributes on an object,\n",
        "# when you don't know the attribute names at compile-time or when you're setting attributes based on user input or configuration.\n",
        "setattr(person_1,'name','Michael')\n",
        "print(person_1.name)"
      ],
      "metadata": {
        "id": "Onovolhr1by4"
      },
      "execution_count": null,
      "outputs": []
    },
    {
      "cell_type": "code",
      "source": [
        "# inheritance\n",
        "# you can create a child class that inherits all the attributes and methods from a parent class\n",
        "# to create a child class you define it with the parent class in parenthesis after the class name\n",
        "class Animal:\n",
        "    def make_sound(self): # define the parent class\n",
        "      pass\n",
        "class Dog(Animal): # define a child class\n",
        "    def make_sound(self):\n",
        "        print(\"Woof!\")\n",
        "class Cat(Animal): # define a child class\n",
        "    def make_sound(self):\n",
        "        print(\"Meow!\")\n",
        "# the child class method overrides the parent class method"
      ],
      "metadata": {
        "id": "HaoKM519wBiq"
      },
      "execution_count": null,
      "outputs": []
    },
    {
      "cell_type": "code",
      "source": [
        "# to call an instance method from the parent class inside a child class use super()\n",
        "class Animal:\n",
        "    def __init__(self, name): # takes a name argument\n",
        "        self.name = name\n",
        "    def make_sound(self):\n",
        "        print(\"Some generic sound\")\n",
        "class Dog(Animal):\n",
        "    def __init__(self, name, breed): #takes name and breed arguments\n",
        "        super().__init__(name) # we use the parent method for name\n",
        "        self.breed = breed # we use the class method for breed\n",
        "    def make_sound(self):\n",
        "        print(\"Woof!\")\n",
        "\n",
        "dog_1 = Dog(\"Fido\", \"Labrador\") # create dog object\n",
        "print(dog_1.name) # call dog's name (from parent)\n",
        "print(dog_1.breed) # call dog's breed (from child)\n",
        "dog_1.make_sound() # call dog's sound (from child)"
      ],
      "metadata": {
        "colab": {
          "base_uri": "https://localhost:8080/"
        },
        "id": "EEDKazM90IRb",
        "outputId": "5fcf1381-527a-41aa-c915-560045d4de17"
      },
      "execution_count": null,
      "outputs": [
        {
          "output_type": "stream",
          "name": "stdout",
          "text": [
            "Fido\n",
            "Labrador\n",
            "Woof!\n"
          ]
        }
      ]
    },
    {
      "cell_type": "code",
      "source": [
        "# There are 3 types of methods that can be defined within a class\n",
        "# These are class methods, instance methods, static methods\n",
        "# An instance method is bound to an instance of a class (self)\n",
        "# A class method is bound to the class (cls)\n",
        "# Class methods can access and modify class variables\n",
        "# defing using @classmethod decorator\n",
        "# A static method doesn't require access to either the instance (self) or the class (cls)\n",
        "# They are regular functions incclded in a class just for organisation purposes\n",
        "# defing using @staticmethod decorator"
      ],
      "metadata": {
        "id": "a_uUmz-j_lNA"
      },
      "execution_count": null,
      "outputs": []
    },
    {
      "cell_type": "code",
      "source": [
        "# Example:\n",
        "# car dealership management system\n",
        "# Vehicle parent class\n",
        "# Car, Truck and SUV child classes\n",
        "# child classes inherit make, model, year and weight atrributes from parent\n",
        "# child classes inherit get_description method from parent, and augment with an additional child attributes\n",
        "# Dealership is a class with its attributes and a method\n",
        "# Once the vehicle objects are created they are added to the dealership object\n",
        "import datetime\n",
        "\n",
        "class Vehicle:\n",
        "    number_of_vehicles = 0 #class variable to track number of vehicles\n",
        "\n",
        "    @classmethod\n",
        "    def get_number_of_vehicles(cls):\n",
        "        return cls.number_of_vehicles\n",
        "\n",
        "    def __init__(self, make, model, year, weight):\n",
        "        self.make = make\n",
        "        self.model = model\n",
        "        self.year = year\n",
        "        self.weight = weight\n",
        "        Vehicle.number_of_vehicles += 1\n",
        "        # the __init__ method will increment whenever a new instaance of vehicle is created\n",
        "\n",
        "    def get_description(self):\n",
        "        return f\"{self.year} {self.make} {self.model}\"\n",
        "\n",
        "    @staticmethod\n",
        "    def get_age_of_vehicle(year):\n",
        "        age_now = datetime.datetime.now().year - year\n",
        "        return age_now\n",
        "\n",
        "class Car(Vehicle):\n",
        "    def __init__(self, make, model, year, weight, num_doors):\n",
        "        super().__init__(make, model, year, weight)\n",
        "        self.num_doors = num_doors\n",
        "\n",
        "    def get_description(self):\n",
        "        return f\"{super().get_description()} ({self.num_doors} doors)\"\n",
        "\n",
        "class Truck(Vehicle):\n",
        "    def __init__(self, make, model, year, weight, payload_capacity):\n",
        "        super().__init__(make, model, year, weight)\n",
        "        self.payload_capacity = payload_capacity\n",
        "\n",
        "    def get_description(self):\n",
        "        return f\"{super().get_description()} (payload capacity: {self.payload_capacity} lbs)\"\n",
        "\n",
        "class SUV(Vehicle):\n",
        "    def __init__(self, make, model, year, weight, num_seats):\n",
        "        super().__init__(make, model, year, weight)\n",
        "        self.num_seats = num_seats\n",
        "\n",
        "    def get_description(self):\n",
        "        return f\"{super().get_description()} ({self.num_seats} seats)\"\n",
        "\n",
        "class Dealership:\n",
        "    def __init__(self, name, vehicles):\n",
        "        self.name = name\n",
        "        self.vehicles = vehicles\n",
        "        self.owner = None # None is a placeholder allowing us to pass an argument later\n",
        "\n",
        "    def get_inventory(self):\n",
        "        return \"\\n\".join([vehicle.get_description() for vehicle in self.vehicles])\n",
        "\n",
        "    def set_owner(self, owner):\n",
        "        self.owner = owner # this method sets the owner attribute\n",
        "\n",
        "car_1 = Car(\"Toyota\", \"Camry\", 2021, 3200, 4)\n",
        "car_2 = Car(\"Honda\", \"Civic\", 2022, 3000, 4)\n",
        "truck_1 = Truck(\"Ford\", \"F-150\", 2021, 5000, 1500)\n",
        "suv_1 = SUV(\"Chevrolet\", \"Suburban\", 2020, 6000, 7)\n",
        "dealership = Dealership(\"Bob's Cars\", [car_1, car_2, truck_1, suv_1])\n",
        "dealership.set_owner(\"Michael\")\n",
        "\n",
        "print(car_1.make)\n",
        "print(car_1.get_description()) # print desciption of a car1\n",
        "print(dealership.name) # print dealership name\n",
        "print(dealership.get_inventory()) # print dealership inventory\n",
        "print(dealership.owner)\n",
        "print(\"Number of vehciles created:\", Vehicle.get_number_of_vehicles())\n",
        "print(Vehicle.get_age_of_vehicle(suv_1.year))\n"
      ],
      "metadata": {
        "colab": {
          "base_uri": "https://localhost:8080/"
        },
        "id": "8TyDqcOo1GHY",
        "outputId": "8112bdd6-bbc9-49d0-8573-572c7fe57b09"
      },
      "execution_count": null,
      "outputs": [
        {
          "output_type": "stream",
          "name": "stdout",
          "text": [
            "Toyota\n",
            "2021 Toyota Camry (4 doors)\n",
            "Bob's Cars\n",
            "2021 Toyota Camry (4 doors)\n",
            "2022 Honda Civic (4 doors)\n",
            "2021 Ford F-150 (payload capacity: 1500 lbs)\n",
            "2020 Chevrolet Suburban (7 seats)\n",
            "Michael\n",
            "Number of vehciles created: 4\n",
            "4\n"
          ]
        }
      ]
    },
    {
      "cell_type": "code",
      "source": [
        "# the @property decorator is used to create read-only properties for class instances.\n",
        "# It allows you to define a method that can be accessed like an attribute, providing a more controlled way to access or compute values based on existing attributes.\n",
        "# The use of underscores (_) before attribute names (_first_name and _last_name) is a convention to indicate they are intended to be private, and their direct access should be avoided.\n",
        "# Getters are methods used to retrieve the value of an attribute - often implemented using properties or simply by defining methods that return the attribute value.\n",
        "# Setters are methods used to set the value of an attribute - they control modification of attribute values by performing validation or additional operations before assigning the value.\n",
        "# the @property decorator can be complemented with a @<property_name>.setter decorator to define a setter method.\n",
        "class Person:\n",
        "    def __init__(self, first_name, last_name):\n",
        "        self._first_name = first_name\n",
        "        self._last_name = last_name\n",
        "\n",
        "    @property\n",
        "    def full_name(self):\n",
        "        \"\"\"Get the full name by combining first and last names.\"\"\"\n",
        "        return f\"{self._first_name} {self._last_name}\"\n",
        "\n",
        "    @property\n",
        "    def email(self):\n",
        "        \"\"\"Generate an email address based on the full name.\"\"\"\n",
        "        return f\"{self._first_name.lower()}_{self._last_name.lower()}@example.com\"\n",
        "\n",
        "    @property\n",
        "    def first_name(self):\n",
        "        return self._first_name\n",
        "\n",
        "    @first_name.setter\n",
        "    def first_name(self, value):\n",
        "        \"\"\"Set the first name with proper capitalization.\"\"\"\n",
        "        self._first_name = value.capitalize()\n",
        "\n",
        "# Creating an instance of the Person class\n",
        "person_1 = Person(\"John\", \"Doe\")\n",
        "\n",
        "# Accessing the read-only properties\n",
        "print(person_1.full_name)  # Output: John Doe\n",
        "print(person_1.email)      # Output: john_doe@example.com\n",
        "\n",
        "# Using the setter to modify the first name\n",
        "person_1.first_name = \"jane\"\n",
        "print(person_1.full_name)  # Output: Jane Doe"
      ],
      "metadata": {
        "colab": {
          "base_uri": "https://localhost:8080/"
        },
        "id": "jR1YmvlbBkrI",
        "outputId": "81af57b9-5b3c-43f8-85c3-25b153900499"
      },
      "execution_count": null,
      "outputs": [
        {
          "output_type": "stream",
          "name": "stdout",
          "text": [
            "John Doe\n",
            "john_doe@example.com\n",
            "Jane Doe\n"
          ]
        }
      ]
    },
    {
      "cell_type": "code",
      "source": [
        "# Additonal example\n",
        "class House:\n",
        "    def __init__(self,square_footage,number_of_bedrooms,garage,private_listing):\n",
        "        self.square_footage = square_footage\n",
        "        self.number_of_bedrooms = number_of_bedrooms\n",
        "        self.garage = garage\n",
        "        self.private_listing = private_listing\n",
        "    def non_bedrooms_area(self):\n",
        "        non_bedrooms_total_area = self.square_footage - (self.number_of_bedrooms * 142)\n",
        "        return non_bedrooms_total_area\n",
        "    def property_taxes(self):\n",
        "        return self.non_bedrooms_area() * 1.67 # call function before multiplying by float\n",
        "house_1 = House(930,1,False,True)\n",
        "print(house_1.property_taxes())"
      ],
      "metadata": {
        "colab": {
          "base_uri": "https://localhost:8080/"
        },
        "id": "xOCbyVmaBYLw",
        "outputId": "d07f40c2-efa5-4baa-8be5-83c871a4382b"
      },
      "execution_count": null,
      "outputs": [
        {
          "output_type": "stream",
          "name": "stdout",
          "text": [
            "1315.96\n"
          ]
        }
      ]
    },
    {
      "cell_type": "code",
      "source": [
        "# Instead of writing boilerplate code for classes, you can use dataclasses to auto-generate __init__, __repr__, and other dunder methods.\n",
        "# Example:\n",
        "\"\"\"from dataclasses import dataclass\n",
        "@dataclass\n",
        "class User:\n",
        "    name: str\n",
        "    age: int\n",
        "user = User(name=\"Aashish\", age=25)\n",
        "print(user)  # User(name='Aashish', age=25)\"\"\"\n",
        "# This makes code cleaner, more maintainable, and less error-prone."
      ],
      "metadata": {
        "id": "2jeUSKBYJSSu"
      },
      "execution_count": null,
      "outputs": []
    }
  ]
}