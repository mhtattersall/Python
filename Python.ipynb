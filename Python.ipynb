{
  "nbformat": 4,
  "nbformat_minor": 0,
  "metadata": {
    "colab": {
      "provenance": [],
      "authorship_tag": "ABX9TyNzUv1xupIpETuW8NWoHHEg",
      "include_colab_link": true
    },
    "kernelspec": {
      "name": "python3",
      "display_name": "Python 3"
    },
    "language_info": {
      "name": "python"
    }
  },
  "cells": [
    {
      "cell_type": "markdown",
      "metadata": {
        "id": "view-in-github",
        "colab_type": "text"
      },
      "source": [
        "<a href=\"https://colab.research.google.com/github/mhtattersall/Python/blob/main/Python.ipynb\" target=\"_parent\"><img src=\"https://colab.research.google.com/assets/colab-badge.svg\" alt=\"Open In Colab\"/></a>"
      ]
    },
    {
      "cell_type": "code",
      "execution_count": null,
      "metadata": {
        "id": "HwmBrlLJtD6q",
        "colab": {
          "base_uri": "https://localhost:8080/",
          "height": 36
        },
        "outputId": "dc176fda-bcd4-4eb6-f845-5b9ce14d285b"
      },
      "outputs": [
        {
          "output_type": "execute_result",
          "data": {
            "text/plain": [
              "'\\nAlternative for comments block \\nwith mulitple strings\\n'"
            ],
            "application/vnd.google.colaboratory.intrinsic+json": {
              "type": "string"
            }
          },
          "metadata": {},
          "execution_count": 65
        }
      ],
      "source": [
        "# use # for comments, which are ignored the interpreter.  Should be complete sentences. Followed by double spaces.\n",
        "\"\"\"\n",
        "Use doc strings for single line or multiple lines.\n",
        "\"\"\"\n",
        "\"\"\"This is a comment.\"\"\""
      ]
    },
    {
      "cell_type": "code",
      "source": [
        "# create a new folder, select folder in vsc\n",
        "# Set up a python virtual environment in a terminal, which allows you to manage dependences\n",
        "# python -m venv <name>\n",
        "# Ctrl + Shift + P in VSC to select Python interpereter, then select the python virtual environment\n",
        "# check in a terminal you are in the virtual environment"
      ],
      "metadata": {
        "id": "aUmHDcl2v0ZE"
      },
      "execution_count": null,
      "outputs": []
    },
    {
      "cell_type": "code",
      "source": [
        "# you can create an ipython notebook file with the extenstion .pynb\n",
        "# you can run the cells inside VSC if you pip install ipyhton\n",
        "# you can use the ipython CLI by typing ipyhton in a terminal\n",
        "# ask for help by typing ? eg after variable"
      ],
      "metadata": {
        "id": "8qdVP_U443wL"
      },
      "execution_count": null,
      "outputs": []
    },
    {
      "cell_type": "code",
      "source": [
        "# type 'python' on the command line to enter interactive mode; quit() to exit interactive mode. Use; to fit two or more statement on a line.\n",
        "# to execute a script add file name eg python my_script.py\n",
        "# to execute a module add -m option and module name eg python -m module eg python -m my_script"
      ],
      "metadata": {
        "id": "d2EUlFQVxN7X"
      },
      "execution_count": null,
      "outputs": []
    },
    {
      "cell_type": "code",
      "source": [
        "# Good habits\n",
        "# descriptive variable names and certainly none that conflict with function or method names\n",
        "# different variable names when using nested functions\n",
        "# snake case for function and variable names eg my_variable_name\n",
        "# upper case for constants eg MY_CONSTANT = 3.1419\n",
        "# use pascal case for naming classes eg MyClassName\n",
        "# camel case starts with lower case eg myClassName\n",
        "# use all lowercase names for modules with underscores for multiple names eg myscript.py\n",
        "# know when functions are inplace or not. inplace means the function doesn't create a objects, and it changes the original object\n",
        "# copy containers first before amendments so you have new object in memory\n",
        "# assigning another variable name does not change an immutable object eg a = 1, b = a, it just copies the reference to the object and assigns it to the variable\n",
        "# shallow copy (eg when slicing) is when python creates a new object and includes the same memory references for the elements inside the original object\n",
        "# with shallow, if the elements are mutable (eg lists) changes made to the elements will be reflected in both the original and the shallow copy\n",
        "# deep copy creates a completely independent list and new memory references for the elements in the container\n",
        "# add clear comments to functions and classes\n",
        "# Example:\n",
        "def calculate_sum(x, y):\n",
        "    \"\"\"\n",
        "    Returns the sum of two numbers.\n",
        "    \"\"\"\n",
        "    return x + y\n",
        "# use type annotations\n",
        "# Bad\n",
        "def add(a, b):\n",
        "    return a + b\n",
        "# Good\n",
        "def add(a: int, b: int) -> int:\n",
        "    return a + b\n",
        "# don't overuse global variables. Use function parameters or class attributes instead\n",
        "# Example\n",
        "# Bad\n",
        "x = 5\n",
        "def multiply(y):\n",
        "    return x * y\n",
        "# Good\n",
        "def multiply(x, y):\n",
        "    return x * y\n",
        "# use list comprehensions when possible instead of for loops to generate lists\n",
        "# use lambda to define simple functions in a single line (inline)\n",
        "# be specific in exception handling\n",
        "# Example:\n",
        "try:\n",
        "    value = int(user_input)\n",
        "except ValueError:\n",
        "    value = None\n",
        "# avoid hardcoding values. Use constants instead\n",
        "# Example:\n",
        "# Bad\n",
        "def calculate_area(radius):\n",
        "    return 3.14 * radius ** 2\n",
        "# Good\n",
        "PI = 3.14\n",
        "def calculate_area(radius):\n",
        "    return PI * radius ** 2\n",
        "# only import the functions you need from a module\n",
        "# each line <80 char, each indentation is 4 spaces, split statements over multiple lines if comma separated list of elements (with hanging indent)\n",
        "# Example:\n",
        "names = [\n",
        "    \"Alice\",\n",
        "    \"Bob\",\n",
        "    \"Charlie\",\n",
        "]"
      ],
      "metadata": {
        "id": "zwzsFqHra-e2"
      },
      "execution_count": null,
      "outputs": []
    },
    {
      "cell_type": "code",
      "source": [
        "# linters - ruff\n",
        "# sanitisers - schema (for json/yaml), sast, pysa\n",
        "# dependency checkers - pip-audit, safety CLI\n",
        "# validation - pydantic, pandera (dataframes)\n",
        "# security - bandit\n",
        "# unit testing - pytest\n",
        "# static type checker - mypy\n",
        "# virtual environments - venv (built-in), anaconda\n",
        "# type hints:\n",
        "# Example:\n",
        "def alter_map(data: Map) -> None:\n",
        "\"\"\" Alters data in a 2d map. Alters the object refernced directly\n",
        "\"\"\"\n",
        "  for x in map:\n",
        "    for y in map[x]:\n",
        "      transmute(map[x][y])\n",
        "# raises section in functions:\n",
        "def query_db(query: SqlQuery) -> Optional[Dict[str, Any]:\n",
        "  \"\"\"Calls the database\n",
        "  Args:\n",
        "    ...\n",
        "  Raises:\n",
        "    ClientException: you goofed up\n",
        "    TimeoutException: db took too long\n",
        "    ConnectionException: something is wrong with your network\n",
        "  Returns:\n",
        "    The response from the query, if any.\n",
        "  \"\"\"\n",
        "# code profiling - timeit, cProfile\n",
        "# use a wrapper class for configuration files\n",
        "# separation of concerns - layers e.g. presentation, business logic, data, database"
      ],
      "metadata": {
        "id": "simeUpcYiRO8"
      },
      "execution_count": null,
      "outputs": []
    },
    {
      "cell_type": "code",
      "source": [
        "# keywords\n",
        "# None is an empty value constant\n",
        "# pass is placeholder"
      ],
      "metadata": {
        "id": "yfBoKepN5M9J"
      },
      "execution_count": null,
      "outputs": []
    },
    {
      "cell_type": "code",
      "source": [
        "# modules can be created and/or installed, and some are buit-in (bundled with the interpreter)\n",
        "# use help() for explanation about the contents of a module eg import math/n help(math) or help(math.ceil) for help with a specific function\n",
        "# use dir() to inspect contents of a module\n",
        "# import keyword is used to bring a module (a file) into the current namespace.\n",
        "# the import statement allows you to use fucntions, classes or variables defined in another module.\n",
        "# import math, imports the entire math module\n",
        "# from math import math, imports just the sqrt function\n",
        "# import math as m allows a shorter alias to be used\n",
        "# if __name__ == \"__main__\":\n",
        "#    main()\n",
        "# the above construct enables the data/functions to be made available on import (above) without being executed.\n",
        "# this works because when imported the interpreter sets it dunder __name__ variable to match the name of the module, so it does not execute as __main__"
      ],
      "metadata": {
        "id": "j2-GPYB3MX6Y"
      },
      "execution_count": null,
      "outputs": []
    },
    {
      "cell_type": "code",
      "source": [
        "# creating amd importing modules\n",
        "# modules names should have short, all lowercase names\n",
        "# import with the import keyword eg import mymod (ie the script minus the .py extension)\n",
        "# modules and functions can be imported with aliased eg import numpy as np\n",
        "# the __pycache__ directory (which appears in the directory containing the script) contains a cache of bytecode files for every imported module\n",
        "# the module search path includes the current directory and directories associated with the PYTHONPATH environment variable and the Pyhton installation.\n",
        "# use the sys built-in module to list the directories comprising the module search path: import sys\\nfor path in sys.path:\\n\\tprint(path)\n",
        "# the first path will be an empty string representing the current directory\n",
        "# to access a variable/function/class from an imported module, it must be prefixed with module name using dot notation (eg math.ceil)\n",
        "# you can access a imported function directly by importing it directly eg from math import ceil, however this risks a name conflict with an existing object, in which the existing name could be overwritten\n",
        "# you can import all names in a module: from math import * , but this increases risk of a conflict.\n",
        "# import * will not import any variable/function name beginning with an underscore as they are intended for internal use only.\n",
        "# a module can be imported inside a function, which limits the name to local scope.  The * wildcard is not permitted when doing so."
      ],
      "metadata": {
        "id": "oKgUrJbAvDwq"
      },
      "execution_count": null,
      "outputs": []
    },
    {
      "cell_type": "code",
      "source": [
        "# packages\n",
        "# a package is a directory of modules in a hierarchical structure\n",
        "# package names should be short, all lowercase names\n",
        "# modules in the package must be imported prefixed with the package name\n",
        "# data and functions in the imported module must be prefixed with both the package and the module name\n",
        "# if a script name __init__.py is present in the package directory, the code therein will be executed when the package (or a module of a package) is imported.\n",
        "# this can be used to initialise package level data\n",
        "# it can be used to import modules once so they don't need to be loaded in each of the modules. In which case, add the import statements to the __init__.py script\n",
        "# a package may contain subpackages to any depth\n",
        "# an absolute import would be import pkg.sub1.mod1\n",
        "# a relative import would be import ..sub1.mod1  The 2 dots refers to the package one level up\n",
        "# Terminal commands:\n",
        "# pip install <package> to install third party packages\n",
        "# pip list to view currently installed packages\n",
        "# pip freeze to output installed packages in a format suitable for a requirements.txt file\n",
        "# pip freeze > requirements.txt generates a .txt file for sharing you environment\n",
        "# pip install -r requirement.txt installs all packages listed in requirements.txt\n",
        "# pip uninstall <package> uninstall a package\n",
        "# pip show <package> display info about a package\n",
        "# pip check checks for inconsistencies or conflicts in installed packages\n",
        "# pip install --upgrade <package> udpate a package to latest version\n",
        "# pip list --outdated list outdated packages that could be upgraded\n",
        "# pip install <package> --user install a package for the current user, avoiding the need for admin permissions"
      ],
      "metadata": {
        "id": "Qt_uGEf5ZzIn"
      },
      "execution_count": null,
      "outputs": []
    },
    {
      "cell_type": "code",
      "source": [
        "# methods and functions\n",
        "# Methods in Python are associated with object instances.\n",
        "# When Python calls a method, it binds the first parameter of that call to the appropriate object reference.\n",
        "# A standalone function in Python is a “function\".\n",
        "# A function that is an attribute of a class or an instance is a “method”."
      ],
      "metadata": {
        "id": "sWhZGjtterLR"
      },
      "execution_count": null,
      "outputs": []
    },
    {
      "cell_type": "code",
      "source": [
        "# os module interacts with the operating system\n",
        "# import os\n",
        "# os library is used to set and get the working directory\n",
        "# working directory is the default file path that python reads or saves files into.\n",
        "# os.getcwd() gets the current directory\n",
        "# os.setcwd('C://file/path') sets the working directory to a new file path\n",
        "# os.listdir('C://file/path') lists the files in a directory\n",
        "# os.mkdir('C://file/path') creates a new directory\n",
        "# os.chdir('C://file/path') changes the directory\n",
        "# os.rmdir('C://file/path') removes a directory\n",
        "# file_exists = os.path.exists('/path/to/file.txt') check if file exists\n",
        "# file_info = os.stat('/path/to/file.txt') getting file information\n",
        "# os.rename('old_file.txt', 'new_file.txt') renaming a file\n",
        "# os.remove('/path/to/file.txt') removing a file\n",
        "# Example:\n",
        "# if os.path.exists('file.txt'):\n",
        "#     os.remove('file.txt')\n",
        "# else:\n",
        "#     print(\"The file does not exist\")"
      ],
      "metadata": {
        "id": "uzUM5zqNc80C"
      },
      "execution_count": null,
      "outputs": []
    },
    {
      "cell_type": "code",
      "source": [
        "# file methods\n",
        "# open(filename, mode) bif\n",
        "# Opens and returns a file object, which can be used with read, write, append operations.\n",
        "# Can specify encoding of charachters for text files e.g. utf8, ascii, latin1\n",
        "# file name on file, or paths with functions os and os.path\n",
        "# Reading from a file\n",
        "# with open('example.txt', 'r') as file:\n",
        "#    content = file.read()\n",
        "#    print(content)\n",
        "# 'r' opens a file for read only, 'r+' opens a file for reading and writing, 'w' opens a file for writing.  Default is read mode.\n",
        "# Once you have your file object (s), you can use file methods to read, write etc.\n",
        "# s = f.read(4) reads first 4 charachters of file, read all if no size specified\n",
        "# s = f.readline() reads a single line from the file\n",
        "# s = f.readlines() reads all lines from the file and returns them as a list\n",
        "# l = s.splitlines() splits a string into a list of lines. l[:10] returns the first 10 lines in the list.\n",
        "# The data read into memory will be a string. To preserve representations in a csv file use the csv module.\n",
        "# Writing to a file\n",
        "# with open('output.txt', 'w') as file:\n",
        "#    file.write('Hello, World!')\n",
        "# Appending to a file\n",
        "# with open('output.txt', 'a') as file:\n",
        "#    file.write('\\nAppending more text.')\n",
        "# 'with' is used to ensure file is propertly closed after operations and releases memory\n",
        "# file_object.close() close an opened file"
      ],
      "metadata": {
        "id": "u7E0wR1l4b_Y"
      },
      "execution_count": null,
      "outputs": []
    },
    {
      "cell_type": "code",
      "source": [
        "# base types\n",
        "# int(whole numbers), float, bool (True or False), string(ordered series of charachters in \"\" or ''), and complex number type\n",
        "# ints, floats and strings are immutable\n",
        "# if you pass base types into functions they will not store changes unless they are assigned to a variable each time.\n",
        "# a literal is the notation for representing a fixed value \"David\", 30.  Underscores may be used in big numbers eg 1_000_000."
      ],
      "metadata": {
        "id": "WIRxgP_IRQ3p"
      },
      "execution_count": null,
      "outputs": []
    },
    {
      "cell_type": "code",
      "source": [
        "# bool is a number type - True is 1 and False is 0\n",
        "# integers are whole numbers\n",
        "# floats are fractional numbers"
      ],
      "metadata": {
        "id": "QyEEzc5h82f9"
      },
      "execution_count": null,
      "outputs": []
    },
    {
      "cell_type": "code",
      "source": [
        "# floats have a binary representation\n",
        "# some floats are exact eg 1/8 = 0.125\n",
        "# some floats are not eg 0.1 = 0.1\n",
        "# the double-precision format uses 64 bits to represent a floating-point number\n",
        "# floats with a infinite binary fraction cannot be precisely represented using a finite number of bits\n",
        "# the decimal module give more precise decimal representations\n",
        "# f.is_integer() a bif for floats only that returns True (or False) if the number represents an int without any fractional part.\n",
        "# f.is_integer_ratio() returns a pair of integers whose ratio is exactly equal to the float\n",
        "# Example:\n",
        "f = 5.5  # This is shorthand for f = float(5.5)\n",
        "r1 = f.as_integer_ratio()\n",
        "print(f.is_integer()) # True\n",
        "print(r1)  # (5, 1)"
      ],
      "metadata": {
        "colab": {
          "base_uri": "https://localhost:8080/"
        },
        "id": "89BU2GDyl4ot",
        "outputId": "56b0794d-bb97-45c1-de1d-ed230c9410eb"
      },
      "execution_count": null,
      "outputs": [
        {
          "output_type": "stream",
          "name": "stdout",
          "text": [
            "False\n",
            "(11, 2)\n"
          ]
        }
      ]
    },
    {
      "cell_type": "code",
      "source": [
        "# python is dynamically typed, meaning a variable is assigned a type at runtime and the type can be changed.\n",
        "# python is also strongly typed, meaning the type of an object cannot be changed.\n",
        "# type conversions (casting)\n",
        "# type() returns the type of an object\n",
        "# int(\"15\")\n",
        "# int(15.56) returns 15 with decimal part truncated\n",
        "# float(10) if you try to convert a string that is not a valid floats it returens an error\n",
        "# list(\"abc\") returns ['a','b','c]\n",
        "# tuple() changes a list to a tuple, needs variable reassignment\n",
        "# set() changes a list to a set, needs varibale reassignment\n",
        "# Example:\n",
        "my_list = [0,200,15,\"name\"]\n",
        "my_tuple = tuple(my_list)\n",
        "print(my_tuple)\n",
        "# int(True) returns 1, intr(False) returns 0"
      ],
      "metadata": {
        "id": "z_WqtahhT_f0",
        "colab": {
          "base_uri": "https://localhost:8080/"
        },
        "outputId": "f94512b2-2b3e-4f2c-f8c6-349f3545cb69"
      },
      "execution_count": null,
      "outputs": [
        {
          "output_type": "stream",
          "name": "stdout",
          "text": [
            "(0, 200, 15, 'name')\n"
          ]
        }
      ]
    },
    {
      "cell_type": "code",
      "source": [
        "# variables store a result in memory\n",
        "# variable identifers must be on LHS, begin in lower case, must not be a keyword, and cannot have white space so use underscore\n",
        "# del list # used to delete memory in case you have used 'list' as a variable name\n",
        "# a = b = c = 10 # this is chained assignment"
      ],
      "metadata": {
        "id": "EW47tQUOuZVL"
      },
      "execution_count": null,
      "outputs": []
    },
    {
      "cell_type": "code",
      "source": [
        "# string methods\n",
        "# a string is an immutable collection of charachters.\n",
        "# + simple concatenation\n",
        "# Its not possible to concat a string with an int, so convert the non-string object using str()\n",
        "# join() concatenates the elements of an iterable into a single string with a separator\n",
        "# result=\",\".join([\"apple\",\"banana\",\"orange\"]) returns apple,banana,orange\n",
        "# s.split(sep=',') splits a string into list of substrings based on a separator(eg. ','). If none, defaults to whitespace\n",
        "# s.splitlines() splits a string into a list of lines.\n",
        "# after the split you can specify the index to return a specific item eg s.split()[0]\n",
        "# s.upper(), s.lower() s.title() converts all charachters to upper or lower case, or to title format\n",
        "# s.capitalise() capitalises the first charachter of the string\n",
        "# s.swapcase() swap case of all letters in the string\n",
        "# s.title() capitalises the first charachter of each word in a string\n",
        "# s.strip() removes leading and trailing whitespaces from a string\n",
        "# s.lstrip(), s.rstrip() removes leading or trailing whitespaces from a string\n",
        "# s.expandtabs() expand tabs (\"Desc\\tCost\\tQty\") => 'Desc Cost  Qty\"\n",
        "# s.replace(\"old\",\"new\",count) replaces occurrences of a specified string with another substring, count(optional) is the maximum no of occurrences to replace\n",
        "# s.count(\"s\") counts the number of occurrences of a substring\n",
        "# s.startswith(\"\"), endswith(\"\") returns a boolean if starts or ends with a substring\n",
        "# s.find(\"\") searches for the first occurrence of a substring in a string. Returns index or -1 if not found\n",
        "# s.index(\"\") searches for the first occurrence of a substring in a string. Returns index or error if not found\n",
        "# s.rfind(\"\"), rindex(\"\") searches from the right\n",
        "# s.islower(), s.istitle(), s.isupper() returns a boolean to check if all lower, follows title case format, all upper\n",
        "# s.isalpha() checks if all contents of a string are alphabetic (letters only) and returns a boolean\n",
        "# s.isalnum() checks if all contents of a string are alphanumeric (letters and numbers only) and returns a boolean\n",
        "# s.isdecimal(), s.isdigit(), s.isnumeric() check if all charachters are decimals (0-9 plus unicode digits eg superscipts), digits (0-9), numeric (digits, superscripts, fractions, roman numerals)\n",
        "# to check if a string represents a floating point number try to convert is to a float using try and except\n",
        "# s.isspace() checks if all contents of a string are space (eg \\t\\n\\r)\n",
        "# s.encode() convert a string into a byte object (eg 'utf-8', which is machine-readable)\n",
        "# b.decode() convert a byte object into a string\n",
        "# s[1] return second charachter in a string\n",
        "# s[::-1] reverse a string in slicing notation\n",
        "# s[0:2] slicing a string to get a substring.  Creates a completely new immutable string.\n",
        "# 3*s repeats a string 3 times\n",
        "# s.startswith(), s.endswith() tests whether a string starts or ends wiht a substring\n",
        "# \"23\".zfill(4) returns \"0023\" by left-filling with zeros\n",
        "# ljust(<width>,<fill_char>), center(), rjust() justifies to a width and fills space with a charachter\n",
        "# \"end\" in s, returns True if substring \"end\" found in s"
      ],
      "metadata": {
        "id": "zv564zPrUfuH"
      },
      "execution_count": null,
      "outputs": []
    },
    {
      "cell_type": "code",
      "source": [
        "# string formatting\n",
        "# \\n, \\s, \\t, \\\\ new line, space, tab, backslash\n",
        "# \\r escape all the charachters in a string\n",
        "# r prefix is for a raw string. In a raw string, backslashes are treated as literal characters and are not used as escape characters.\n",
        "# Example:\n",
        "name = \"Alice\"\n",
        "age = 30\n",
        "result = \"My name is \" + name + \" and I am \" + str(age) + \" years old.\"\n",
        "print(result)\n",
        "# % interpolation\n",
        "# Example:\n",
        "name = \"Bob\"\n",
        "age = 25\n",
        "result = \"My name is %s and I am %d years old.\" % (name, age)\n",
        "print(result)\n",
        "# f-strings\n",
        "# Example:\n",
        "name = \"David\"\n",
        "age = 40\n",
        "result = f\"My name is {name} and I am {age} years old.\"\n",
        "print(result)\n",
        "#s.format()\n",
        "# Example:\n",
        "name = \"Charlie\"\n",
        "age = 35\n",
        "result = \"My name is {} and I am {} years old.\".format(name, age)\n",
        "print(result)\n",
        "# Example:\n",
        "def birth_year(age):\n",
        "    return 2025 - age\n",
        "print(f\"My name is {name} and I was born in {birth_year(age)}.\")\n",
        "# Example:\n",
        "pi_value = 3.14159265359\n",
        "formatted_string = \"The value of pi is {:.2f}\".format(pi_value)\n",
        "print(formatted_string)\n",
        "# Padding is acheived by adding a colon with a number at the end of an expression in curly braces\n",
        "# Example:\n",
        "print(f\"Name: {name:10} Age: {age:2}\")\n",
        "# Example: (with floating point numbers)\n",
        "products = [(\"Lamp\", 19.95), (\"Mug\", 3.90), (\"TV\", 499.0)]\n",
        "for product, price in products:\n",
        "    print(f\"{product:8} ${price:8.2f}\")\n",
        "# The alignment can be set to left<, right> or ^centre by prefix\n",
        "for product, price in products:\n",
        "    print(f\"|{product:>8}| ${price:^9.2f}|\")"
      ],
      "metadata": {
        "id": "lT9qko0qbIIP",
        "colab": {
          "base_uri": "https://localhost:8080/"
        },
        "outputId": "4efaf05b-52ea-40a6-de20-d276a08f1980"
      },
      "execution_count": null,
      "outputs": [
        {
          "output_type": "stream",
          "name": "stdout",
          "text": [
            "My name is Alice and I am 30 years old.\n",
            "My name is Bob and I am 25 years old.\n",
            "My name is David and I am 40 years old.\n",
            "My name is Charlie and I am 35 years old.\n",
            "My name is Charlie and I was born in 1990.\n",
            "The value of pi is 3.14\n",
            "Name: Charlie    Age: 35\n",
            "Lamp     $   19.95\n",
            "Mug      $    3.90\n",
            "TV       $  499.00\n",
            "|    Lamp| $  19.95  |\n",
            "|     Mug| $  3.90   |\n",
            "|      TV| $ 499.00  |\n"
          ]
        }
      ]
    },
    {
      "cell_type": "code",
      "source": [
        "# int methods\n",
        "# i.bit_length() returns the no of bits necessary to represent a number in binary"
      ],
      "metadata": {
        "id": "vwf5ENSg4tdH"
      },
      "execution_count": null,
      "outputs": []
    },
    {
      "cell_type": "code",
      "source": [
        "# print bif (built-in function)\n",
        "# print()\n",
        "# , separator and puts space in the output\n",
        "# + used to concatentate (see input bif below)\n",
        "# print('Hi', file=open('output.txt', 'a')) print to specified file in append mode"
      ],
      "metadata": {
        "id": "KrjhueeM7oDU"
      },
      "execution_count": null,
      "outputs": []
    },
    {
      "cell_type": "code",
      "source": [
        "# help bif\n",
        "# provides information about the object and its attributes, methods, and usage\n",
        "# Example:\n",
        "help(print) # built-in function (e.g., print)\n",
        "help(list) # built-in object (e.g., list)"
      ],
      "metadata": {
        "id": "p56BHKzq7j1W"
      },
      "execution_count": null,
      "outputs": []
    },
    {
      "cell_type": "code",
      "source": [
        "# id bif\n",
        "# used to get the unique identifier (memory address) of an object\n",
        "# can be used to check if an object is unique or shared with another variable\n",
        "# immutable objects with the same value will have the same id e.g. x = 1, y = 1, x and y reference the same object."
      ],
      "metadata": {
        "id": "N8U6z-fGtyQW"
      },
      "execution_count": null,
      "outputs": []
    },
    {
      "cell_type": "code",
      "source": [
        "# round bif\n",
        "# round(number, digits) rounds a number to a given number of digits\n",
        "# in case of a tie, rounds to nearest even integer (banker's rounding)"
      ],
      "metadata": {
        "id": "n6Q_JIYXW58j"
      },
      "execution_count": null,
      "outputs": []
    },
    {
      "cell_type": "code",
      "source": [
        "# abs bif\n",
        "# abs() returns the absolute value of a number"
      ],
      "metadata": {
        "id": "3f4vSZOK3Unx"
      },
      "execution_count": null,
      "outputs": []
    },
    {
      "cell_type": "code",
      "source": [
        "# reading csv files and storing in a list\n",
        "# import csv\n",
        "# f = open *my_dataset\".csv,\"r\")\n",
        "# csvreader = csv.reader(f)\n",
        "# csv_as_list - list(csv)"
      ],
      "metadata": {
        "id": "qzzbK4ueE_09"
      },
      "execution_count": null,
      "outputs": []
    },
    {
      "cell_type": "code",
      "source": [
        "# enumerarate bif\n",
        "# enumerate() yields on object containing pairs (a count and a value)\n",
        "# Example:\n",
        "my_list = [\"eat\", \"sleep\", \"repeat\"]\n",
        "# creating enumerate objects\n",
        "obj_1 = enumerate(my_list)\n",
        "print (\"Return type:\", type(obj_1))\n",
        "print (list(enumerate(my_list))) #list of tuples\n",
        "for i,v in enumerate(my_list):\n",
        "  print(i,v) #print each index and value"
      ],
      "metadata": {
        "id": "gUhkh5n7tTiu",
        "colab": {
          "base_uri": "https://localhost:8080/"
        },
        "outputId": "2072caa5-dc8d-47df-bcc8-592e5b68ed8f"
      },
      "execution_count": null,
      "outputs": [
        {
          "output_type": "stream",
          "name": "stdout",
          "text": [
            "Return type: <class 'enumerate'>\n",
            "[(0, 'eat'), (1, 'sleep'), (2, 'repeat')]\n",
            "0 eat\n",
            "1 sleep\n",
            "2 repeat\n"
          ]
        }
      ]
    },
    {
      "cell_type": "code",
      "source": [
        "# input bif\n",
        "# input() request for user input, stored in the message variable\n",
        "# automatically stored as strings, so convert to integer if performing a maths operation\n",
        "# Example:\n",
        "name = input(\"Enter your name: \")\n",
        "print(\"Your name is \"+ name + \".\")\n",
        "# Example:\n",
        "age = int(input(\"How old are you?\"))\n",
        "age = int(age)\n",
        "print(\"You are\",age,\"years old.\")\n",
        "type(age)"
      ],
      "metadata": {
        "id": "K5xfo-S61q_l",
        "colab": {
          "base_uri": "https://localhost:8080/"
        },
        "outputId": "fb512673-822a-4948-ec35-67858fcbfb32"
      },
      "execution_count": null,
      "outputs": [
        {
          "output_type": "stream",
          "name": "stdout",
          "text": [
            "Enter your name: Michael\n",
            "Your name is Michael.\n",
            "How old are you?49\n",
            "You are 49 years old.\n"
          ]
        },
        {
          "output_type": "execute_result",
          "data": {
            "text/plain": [
              "int"
            ]
          },
          "metadata": {},
          "execution_count": 3
        }
      ]
    },
    {
      "cell_type": "code",
      "source": [
        "# reversed bif\n",
        "# used to reverse a sequence eg list, tuple, string and modifies the original object (in-place)\n",
        "# Example:\n",
        "original_list = [1, 2, 3, 4, 5]\n",
        "reversed_list = list(reversed(original_list))\n",
        "print(\"Original List:\", original_list)\n",
        "print(\"Reversed List:\", reversed_list)"
      ],
      "metadata": {
        "id": "lkxlqKv66glj",
        "colab": {
          "base_uri": "https://localhost:8080/"
        },
        "outputId": "122fd18d-2157-403e-ca72-19ee4a445c19"
      },
      "execution_count": null,
      "outputs": [
        {
          "output_type": "stream",
          "name": "stdout",
          "text": [
            "Original List: [1, 2, 3, 4, 5]\n",
            "Reversed List: [5, 4, 3, 2, 1]\n"
          ]
        }
      ]
    },
    {
      "cell_type": "code",
      "source": [
        "# range bif\n",
        "# generates a sequence of integers\n",
        "# return a range object that produces a sequence of integers from start (inclusive) to stop (exclusive) by step\n",
        "# Example:\n",
        "for i in range(5):\n",
        "  print(i)\n",
        "my_list = list(range(3,10,2)) #creates a list with the range object\n",
        "print(my_list)"
      ],
      "metadata": {
        "id": "27V8ssPtMfYm",
        "colab": {
          "base_uri": "https://localhost:8080/"
        },
        "outputId": "4a1382f9-eea8-460a-f555-914120fd4339"
      },
      "execution_count": null,
      "outputs": [
        {
          "output_type": "stream",
          "name": "stdout",
          "text": [
            "0\n",
            "1\n",
            "2\n",
            "3\n",
            "4\n",
            "[3, 5, 7, 9]\n"
          ]
        }
      ]
    },
    {
      "cell_type": "code",
      "source": [
        "# zip bif\n",
        "# combines multiple iterables element-wise and returns an iterator of tuples\n",
        "# Example:\n",
        "my_list_1 = [1, 2, 3]\n",
        "my_list_2 = ['a', 'b', 'c']\n",
        "my_zipped = zip(my_list_1, my_list_2)\n",
        "print(my_zipped) #zip is a zip object\n",
        "for i in my_zipped:\n",
        "    print(i) #prints the tuples in the zip object\n",
        "my_dict = dict(zip(my_list_1,my_list_2)) #returns the zipped tuples as a dictionary\n",
        "print(my_dict)\n",
        "# note that once you iterate you cannot use the zip object again\n",
        "my_zipped = zip(my_list_1, my_list_2)\n",
        "my_unzipped = list(zip(*my_zipped))\n",
        "print(my_unzipped)"
      ],
      "metadata": {
        "id": "5kRGUGS1NLnL",
        "colab": {
          "base_uri": "https://localhost:8080/"
        },
        "outputId": "9fe87e47-b984-4fa3-a9ab-8276453c0130"
      },
      "execution_count": null,
      "outputs": [
        {
          "output_type": "stream",
          "name": "stdout",
          "text": [
            "<zip object at 0x7af8e712d080>\n",
            "(1, 'a')\n",
            "(2, 'b')\n",
            "(3, 'c')\n",
            "{1: 'a', 2: 'b', 3: 'c'}\n",
            "[(1, 2, 3), ('a', 'b', 'c')]\n"
          ]
        }
      ]
    },
    {
      "cell_type": "code",
      "source": [
        "# sorted bif\n",
        "# returns a new sorted container, without changing the order of the original, but it is a shallow copy\n",
        "# creates a new list if perform with a set\n",
        "# sorted(<container>, reverse=True) sorts in descending order\n",
        "# sorted(<container>, key=lambda x:x[1]) changes the sort key, in this to the second element in a tuple\n",
        "# with a dictionary, sorted can create a new sorted dictionary if all the keys are of the same type (eg string)\n",
        "# sorted_values = sorted(d.values()) # sort a dictionary by values"
      ],
      "metadata": {
        "id": "rhvAZcti4Ukq"
      },
      "execution_count": null,
      "outputs": []
    },
    {
      "cell_type": "code",
      "source": [
        "# Counter\n",
        "# used for counting the occurrences of elements in an iterable\n",
        "# Example:\n",
        "from collections import Counter\n",
        "my_list = [1, 2, 3, 1, 2, 1, 4, 5, 4]\n",
        "count = Counter(my_list) # count each item\n",
        "print(count)\n",
        "print(type(count))\n",
        "print(count[1])\n",
        "most = count.most_common(3) # 3 most common items and their counts\n",
        "print(most)"
      ],
      "metadata": {
        "id": "bbn4c4SkXFlw",
        "colab": {
          "base_uri": "https://localhost:8080/"
        },
        "outputId": "2d8535f7-a765-4583-a5f1-862f0022f153"
      },
      "execution_count": null,
      "outputs": [
        {
          "output_type": "stream",
          "name": "stdout",
          "text": [
            "Counter({1: 3, 2: 2, 4: 2, 3: 1, 5: 1})\n",
            "<class 'collections.Counter'>\n",
            "3\n",
            "[(1, 3), (2, 2), (4, 2)]\n"
          ]
        }
      ]
    },
    {
      "cell_type": "code",
      "source": [
        "# arithmetic operators: + - * / (/ results in a float even if answer is an int)\n",
        "# //floor division returns integer\n",
        "# % modulo return remainder\n",
        "# ** power\n",
        "# ** 0.5 square root"
      ],
      "metadata": {
        "id": "x55ukGm1yDtd"
      },
      "execution_count": null,
      "outputs": []
    },
    {
      "cell_type": "code",
      "source": [
        "# assignment operators (assign values to variables):\n",
        "# =\n",
        "# += adds amount\n",
        "# -= subtracts amount\n",
        "# *= multiplication assignment\n",
        "# /= division assignment\n",
        "# %= remainder assignment\n",
        "# **= exponent assignment"
      ],
      "metadata": {
        "id": "1JoARokYzRu6"
      },
      "execution_count": null,
      "outputs": []
    },
    {
      "cell_type": "code",
      "source": [
        "# comparison operators (returns boolean True or False)\n",
        "# == equal to\n",
        "# != not equal to\n",
        "# > greater than\n",
        "# < less than\n",
        "# >= greater or equal to\n",
        "# <= less than or equal to+\n",
        "# Any value is python can be converted to a boolean.  False = 0, \"\", [], {}, None.  Non-zero, non-empty values evaluate to True."
      ],
      "metadata": {
        "id": "oXvzPphD0g-f"
      },
      "execution_count": null,
      "outputs": []
    },
    {
      "cell_type": "code",
      "source": [
        "# logical operators (yields one or the other operand, most likley True or False)\n",
        "# and, or, not\n",
        "# With AND if the value on the left is truthy, the value on the right is returned.\n",
        "# With AND if the value on the left is falsey, the value on the left is returned.\n",
        "# With OR if the value on the left is truthy, the value on the left is returned.\n",
        "# With OR if the value on the left is falsey, the value on the right is returned.\n",
        "# Precendence is arithmetic (BODMAS), relational, logical, assignment.  If same, read left to right.\n",
        "# identity operators (used to check if two values are located at same part of the memory)\n",
        "# is, is not\n",
        "# With strings and integers there can only be one literal with that value.\n",
        "# With lists, two lists can have the same contents (i.e. x == y), but they are separate objects.\n",
        "# membership operators (used to test whether a value or variable is in a container/sequence)\n",
        "# in, not in.  Returns a boolean.\n",
        "# With dict, using in will look at the keys, unless you specify values ed. d.values().\n",
        "# bitwise operators (act on operands as is they were stings of binary digits)\n",
        "# &\tis AND\n",
        "#| is OR\n",
        "# ^\tis XOR\tCompares each bit of two integers. The resulting bit is 1 if the corresponding bits are different, and 0 if they are the same.\n",
        "# ~\tis NOT\tInverts all the bits\n",
        "# <<\tLeft Shift\tShifts bits to the left, fills with 0s on the right\n",
        "# >>\tRight Shift\tShifts bits to the right, fills with sign bit on the left (for negative numbers) or 0s (for positive numbers)\n",
        "# Example (XOR):\n",
        "a = 5        # 5 in binary is 0101\n",
        "b = 3        # 3 in binary is 0011\n",
        "result = a ^ b  # result is 6 (0110 in binary)"
      ],
      "metadata": {
        "id": "6LoHEKbs1slY"
      },
      "execution_count": null,
      "outputs": []
    },
    {
      "cell_type": "code",
      "source": [
        "# container types (collections)\n",
        "# [list] ordered, changeable, allows duplicates, indexed\n",
        "# list are useful for storing items with different data types and with 1 dimension\n",
        "# (tuple) ordered, immutable, allows duplicates, indexed\n",
        "# tuples are for fixed collections of items, where the data should remain constant throughout the program\n",
        "# {dictionary} key:value pairs, unordered, changeable, no duplicates\n",
        "# dictionaries allow you to access a value directly if you know the key, whereas lists iterate through all elements to find a value\n",
        "# keys should be the same data type, values can be mixed data types.\n",
        "# {set} unordered, changeable, no duplicates, no index, hashable(immutable) objects\n",
        "# strings, lists and tuples are also sequences (ordered), which means you can perform index operations\n",
        "# list(), tuple(), dict(), set()  # list, tuple, dict, set constructors"
      ],
      "metadata": {
        "id": "h6u531qW277R"
      },
      "execution_count": null,
      "outputs": []
    },
    {
      "cell_type": "code",
      "source": [
        "# indexing\n",
        "# Example:\n",
        "l1 = [10,20,30,40,50,60]\n",
        "# zero-based 0 1 2 3 4 5\n",
        "# negative -6 -5 -4 -3 -2 -1\n",
        "# a list element is accessed by specifying its index in square brackets\n",
        "print(l1[3])\n",
        "# the index method finds the index of a given element\n",
        "print(l1.index(40))\n",
        "# as lists are mutable, the index of a given element may change over time"
      ],
      "metadata": {
        "id": "hKyqzS3T3vR7",
        "colab": {
          "base_uri": "https://localhost:8080/"
        },
        "outputId": "7604da9a-a85e-42c8-c89c-7bcc7700be3b"
      },
      "execution_count": null,
      "outputs": [
        {
          "output_type": "stream",
          "name": "stdout",
          "text": [
            "40\n",
            "3\n"
          ]
        },
        {
          "output_type": "execute_result",
          "data": {
            "text/plain": [
              "[9, 7, 5, 3, 1]"
            ]
          },
          "metadata": {},
          "execution_count": 2
        }
      ]
    },
    {
      "cell_type": "code",
      "source": [
        "# slicing extracts a subset of list objects into a new list, and does not change the original list.\n",
        "# slicing creates a new shallow memory object - the list is a new object, but the contents if mutable share memory references to the original list.\n",
        "# [:] all\n",
        "# [:-1] all except last\n",
        "# [::2] start at 0, step 2\n",
        "# [start,stop,step]\n",
        "# [::-1] reverse the order of a list and creates a new object without modifying the original, but it is still a shallow copy\n",
        "# [1:3] slices a list from index 1 to but including index 3\n",
        "# [:2] first 2 elements\n",
        "# [1:] all elements from 2nd to last\n",
        "# [-3] last 3 elements\n",
        "# Example\n",
        "l2 = list(range(1,11)) # list of ints 1 to 10\n",
        "l2[::2][::-1] # select every other element and reverse the list"
      ],
      "metadata": {
        "id": "u2Oi7c4H5E-X"
      },
      "execution_count": null,
      "outputs": []
    },
    {
      "cell_type": "code",
      "source": [
        "# operations on containers\n",
        "# len() returns no of items\n",
        "# min(), max(), sum()\n",
        "# any() returns a booelan if any elements are True\n",
        "# all() returns a boolean if all element are True\n",
        "# index(element) returns first index of specified element\n",
        "# count(element) returns number of occurrences of a specified element\n",
        "# clear() removes all elements and leaves container empty"
      ],
      "metadata": {
        "id": "DeOh1jew6O6t"
      },
      "execution_count": null,
      "outputs": []
    },
    {
      "cell_type": "code",
      "source": [
        "# list operations\n",
        "# sort() sorts a list elements in ascending order (less then, smallest first)\n",
        "# sort(reverse=True) sorts in descending order\n",
        "# sort(key=len) change the sort key to by element length\n",
        "# reverse() reverse the order of elements in a list\n",
        "# l.index() return item at specified index\n",
        "# l.append(item) adds item to end\n",
        "# l.extend(seq) adds a list of items to end of another list\n",
        "# 1 += assign items to end of a list\n",
        "# Example:\n",
        "l3 = ['a','b','c']\n",
        "l3 += 'de'\n",
        "l3\n",
        "# l.insert(idx,val) insert item between existing items, at an index\n",
        "# l.pop(idx) remove item at index and return its value.  If you don't specify an index it will remove and return last element.\n",
        "# l.remove() removes first occurrence of a specified element and raises an error if not present\n",
        "# del l[5] deletes item at index 5. Del removes the memory refences to objects.\n",
        "# del 1[:4] deletes first 4 items\n",
        "# l.sort() sorts list in ascending order(default)\n",
        "# l1+l2 creates a new list by adding the elements of 2 lists together\n",
        "# l*3 creates a new list with 2 extra copies appended to the list\n",
        "# l[0] = 50, updates first element of a list by assignin a new value to a given index\n",
        "# l[:2] = [40,40], updates first 2 elements with a new list\n",
        "# l[1:] = [40,40,50], updates the elements after the first with a new list\n",
        "# note: slicing creates a new list\n",
        "# l.copy() makes a shallow copy of a list ie a new memory object for the list, but does not create new objects.  Both original and copy will share same elements\n",
        "# l2 = l1[:] shallow copy using slicing\n",
        "# l.deepcopy(), creates a completely independent copy of the original object along with all the object memory references contained within it\n",
        "# l = l + [50] adds a new element to a list (can only concatenate another list to a list)\n",
        "# nested lists\n",
        "# Example:\n",
        "# my_list = [[1, 2, 3], [4, 5, 6], [7, 8, 9]]\n",
        "# print(my_list[0][0]) # access item at first row, first column"
      ],
      "metadata": {
        "id": "FWskE7jVq9ZY",
        "colab": {
          "base_uri": "https://localhost:8080/"
        },
        "outputId": "16e9719b-a69e-40b5-8c9f-9eece5d523ee"
      },
      "execution_count": null,
      "outputs": [
        {
          "output_type": "stream",
          "name": "stdout",
          "text": [
            "{0: 1, 1: 2, 2: 3}\n"
          ]
        }
      ]
    },
    {
      "cell_type": "code",
      "source": [
        "# tuple operations:\n",
        "# t=(1,) # create a tuple with a single item\n",
        "# t[0] returns first element of a tuple\n",
        "# t[-1] returns last element of a tuple\n",
        "# t.index() return item at specified index\n",
        "# slicing creates a new tuple from an existing tuple\n",
        "# t1+t2 creates a new tuple by adding the elements of 2 lists together\n",
        "# t*3 creates a new tuple with 2 extra copies appended to the list\n",
        "# x, y = t, unpacks and assigns contents to variables x and y\n",
        "# Example:\n",
        "# my_tuple = (1,2,3,4)\n",
        "# a,*args = my_tuple #args is a list with all other elements\n",
        "# print(a, args)\n",
        "# cmp() # compare the elements of two tuples"
      ],
      "metadata": {
        "id": "XSRIiKlK6Xzs"
      },
      "execution_count": null,
      "outputs": []
    },
    {
      "cell_type": "code",
      "source": [
        "# dictionary operations:\n",
        "# my_dict = {\"Dad\":\"Michael\",\"age\":49} # or by using dict(name='Michael',age=30) to simpfly the process\n",
        "# my_dict[\"height\"] = 182 # add new key value pair\n",
        "# d[key] = value assigns a new (or updated) value to a key\n",
        "# d[key] returns corresponding value. Each value in a dict is accessible by its key.\n",
        "# del d[key] delete all memory references to an object, in this case a key (and its value)\n",
        "# d[new_key] = d.pop(old_key) # change a key\n",
        "# d.update(d2) add elements from another dictionary (or list of tuples, or tuple of lists etc).  If a key already exists it is updated\n",
        "# d.keys(), d.values(), d.items() return a list of keys, list of values, list of key value tuples\n",
        "# d.copy() create a shallow copy\n",
        "# d.deepcopy() create a deep copy\n",
        "# d.pop(key) return an item with a specified key, and remove key value pair\n",
        "# d.popitem() return last inserted key:value pair as a tuple, and remove key value pair\n",
        "# d.get(\"United Kingdom\") returns value for a key\n",
        "# d.get(\"United Kingdom\", \"UK\") pass a default value in case a key does not exist, if the key does exist the default value is ignored.\n",
        "# d.setdefault(\"United Kingdom\",\"UK\") return value for a key, or if key does not exist, adds a new key pair\n",
        "# max (d, key=.d.get) returns the ket for largest value in d\n",
        "# \"GB\" in d, checks if \"GB\" is a key in d\n",
        "# # tuples can be used as individal dictionary keys\n",
        "# only immutable objects are allowed as dictionary keys\n",
        "# l = d.values(), list(l) creates a list with dictionary values\n",
        "# Example:\n",
        "# d = {\"Dad\":\"Michael\",\"age\":49}\n",
        "# my_list = list(d.values())\n",
        "# print(my_list)\n",
        "# list(d.items()) returns key value pairs as a list of tuples\n",
        "# x={}, y={}, z={**x,**y} merge two dictionaries\n",
        "# Example: (create a dict from a list using index as keys)\n",
        "a = [1,2,3]\n",
        "b = {}\n",
        "for index,value in enumerate(a):\n",
        "  b[index] = value\n",
        "print(b)"
      ],
      "metadata": {
        "colab": {
          "base_uri": "https://localhost:8080/"
        },
        "id": "DfJvrcMr6yQO",
        "outputId": "2dcdb57d-ea33-48e1-a742-010dad06265a"
      },
      "execution_count": null,
      "outputs": [
        {
          "output_type": "stream",
          "name": "stdout",
          "text": [
            "{0: 1, 1: 2, 2: 3}\n"
          ]
        }
      ]
    },
    {
      "cell_type": "code",
      "source": [
        "# set operations:\n",
        "# set() to create an empty set.  {} on its own creates a dictionary. set() can also create a set from an existing collection eg a list\n",
        "# |union, & intersection, - difference, ^ symmetric difference (unique elements ie removing intersection)\n",
        "# s.update(s2) update the current set with elements from another set or iterable (eg list or tuple)\n",
        "# s.add(element) adds an element to a set, provided it is not already a member\n",
        "# s.remove() removes an element from a set and raises an error if element not present\n",
        "# s.discard() removes an element from a set, but doesn't raise an error if element not present\n",
        "# s.pop() returns an element and removes it from the set\n",
        "# s.copy() creates shallow copy of a set, but all elements are immutable anyway\n",
        "# \"GB\" in s. returns True if \"GB\" in s\n",
        "# union returns a new set that is a union of sets\n",
        "# Example:\n",
        "s1 = {1,2,3}\n",
        "s2 = {3,4,5}\n",
        "s3 = s1.union(s2)\n",
        "print(s3)\n",
        "# intersection returns a new set that is the intersection of sets\n",
        "# difference returns a new set that is the difference between sets\n",
        "# symmetric_difference returns a new set that is the symmetric differnce between sets\n",
        "# intersection_update removes elements that do not exist in another set\n",
        "# difference_update removes elements that exist in another set\n",
        "# symmetric_difference_update removes elements that exists in both sets\n",
        "# isdisjoint returns True if intersection is an empty set\n",
        "# issubset returns True if set is a subset of another set\n",
        "# issuperset returns True if set is a superset of another set"
      ],
      "metadata": {
        "colab": {
          "base_uri": "https://localhost:8080/"
        },
        "id": "2CSjG7iF61sy",
        "outputId": "8d38297d-47da-4048-b03a-c4d0686ac2e8"
      },
      "execution_count": null,
      "outputs": [
        {
          "output_type": "stream",
          "name": "stdout",
          "text": [
            "{1, 2, 3, 4, 5}\n"
          ]
        }
      ]
    },
    {
      "cell_type": "code",
      "source": [
        "# list and dictionary comprehension\n",
        "# a concise way to create lists based on an existing iterable by applying an expression to each element\n",
        "# syntax: new_list = [expression (what you want) for item in iterable (for loop) if condition (condition)]\n",
        "# or simpler, create a [] making an operation on these items with a condition\n",
        "# Example:\n",
        "my_squares = [x**2 for x in range(10)]\n",
        "print(my_squares)\n",
        "my_evens = [x for x in range(10) if x % 2 == 0]\n",
        "print(my_evens)\n",
        "my_pairs = [(x, x**2) for x in range(5)] # creates a list of tuples\n",
        "print(my_pairs)\n",
        "my_days = [\"Monday\",\"Tuesday\",\"Wednesday\"]\n",
        "lower_days=[my_days.lower() for my_days in my_days]\n",
        "print(lower_days)\n",
        "# Example: (all combinations of the elements in 2 tuples)\n",
        "tuple_a=(4,5)\n",
        "tuple_b=(7,8)\n",
        "combinations_list=[(x, y) for x in a for y in b]\n",
        "print(combinations_list)\n",
        "# Example: (from a list to a dictionary)\n",
        "my_old_list = [1,2,3]\n",
        "my_new_dict_1 = {item * 3 for item in my_old_list if item < 3}\n",
        "print(my_new_dict_1)\n",
        "# Example: (dict comprehension)\n",
        "my_old_dict = {0:1, 1:2, 2:3}\n",
        "my_new_dict_2 = {key:value * 7 for key, value in my_old_dict.items() if key == 1}\n",
        "print(my_new_dict_2)\n",
        "# Example: (dict with keys integers fom 1 to 7, values squares of those integers)\n",
        "my_squares_dict = {key: value * key for key, value in enumerate(range(1, 8), start=1)}\n",
        "print(my_squares_dict)\n",
        "# Example: (sort list items stored as dict values)\n",
        "my_dict = {'n1': [2, 3, 1], 'n2': [5, 1, 2], 'n3': [3, 2, 4]}\n",
        "my_sorted_dict = {key: sorted(value) for key, value in my_dict.items()}\n",
        "print(my_sorted_dict)\n",
        "# See studentGradesDb.py Example for list comprension in a function\n",
        "# Example:\n",
        "# def getGrade(db, student_id, pset_id):\n",
        "#    return [row['points'] for row in db['grades']\n",
        "#        if row['student'] ==student_id and row['pset'] ==pset_id]"
      ],
      "metadata": {
        "id": "2CpaPHepTk2j",
        "colab": {
          "base_uri": "https://localhost:8080/"
        },
        "outputId": "ab0a7dc1-46d8-452e-bb5a-5992908faac7"
      },
      "execution_count": null,
      "outputs": [
        {
          "output_type": "stream",
          "name": "stdout",
          "text": [
            "[0, 1, 4, 9, 16, 25, 36, 49, 64, 81]\n",
            "[0, 2, 4, 6, 8]\n",
            "[(0, 0), (1, 1), (2, 4), (3, 9), (4, 16)]\n",
            "['monday', 'tuesday', 'wednesday']\n",
            "[(4, 7), (4, 8), (5, 7), (5, 8)]\n",
            "{3, 6}\n",
            "{1: 14}\n",
            "{1: 1, 2: 4, 3: 9, 4: 16, 5: 25, 6: 36, 7: 49}\n",
            "{'n1': [1, 2, 3], 'n2': [1, 2, 5], 'n3': [2, 3, 4]}\n"
          ]
        }
      ]
    },
    {
      "cell_type": "code",
      "source": [
        "# resuable code\n",
        "# Getter to return the value of a dictionary when passed a dictionary and a key\n",
        "def get(dict, key):\n",
        "    if key in dict:\n",
        "        return dict[key]\n",
        "    else:\n",
        "        return None\n",
        "# Getter to return the value in a nested dictionary\n",
        "def get2(dict1, key1, key2):\n",
        "    dict2 = get(dict1, key1)\n",
        "    if dict2:\n",
        "        return get(dict2, key2)\n",
        "    else:\n",
        "        return None"
      ],
      "metadata": {
        "id": "KTlfWThfRUkg"
      },
      "execution_count": null,
      "outputs": []
    },
    {
      "cell_type": "code",
      "source": [
        "# loop control\n",
        "# pass, a placehholder to do nothing where a block of code is expected\n",
        "# break, terminate a loop early\n",
        "# continue, stop the current element and go to next iteration\n",
        "# return, end a function's execution and specify the value to return"
      ],
      "metadata": {
        "id": "tOKsZuwen8eT"
      },
      "execution_count": null,
      "outputs": []
    },
    {
      "cell_type": "code",
      "source": [
        "# for loops (iterative loop statement)\n",
        "# statements block executed for each item of a container or iterator\n",
        "# for variable in sequence:\n",
        "#   statements block\n",
        "# Example: (going over sequence values)\n",
        "word = \"Mississippi\"\n",
        "count = 0\n",
        "for l in word:\n",
        "  if l == \"s\":\n",
        "    count += 1\n",
        "print(\"found\",count,\"letter 's' in\",word)\n",
        "# Example: (going over sequence index)\n",
        "my_list = [11,18,9,12,23,4,17]\n",
        "lost = []\n",
        "index_pos = []\n",
        "for idx in range(len(my_list)):\n",
        "  val = my_list[idx]\n",
        "  if val > 15:\n",
        "    lost.append(val)\n",
        "    index_pos.append(idx)\n",
        "    my_list[idx] = 15\n",
        "print(\"less than or equal to 15 in list:\",my_list,\" and lost:\",lost,\"at index positions:\",index_pos)\n",
        "# Example:(go over sequence values and index to acheive same outcome)\n",
        "a = [1,2,3]\n",
        "b= []\n",
        "#for value in a:\n",
        "#  b.append(value * 2)\n",
        "for index in range(0,len(a)):\n",
        "  b.append(a[index] * 2)\n",
        "print(b)\n",
        "# Example: making a matrix\n",
        "mat = list(range(0,64))\n",
        "def makeMatrix(a,n1,n2):\n",
        "    M = []\n",
        "    count = 0\n",
        "    for row in range(0,n1):\n",
        "        r = []\n",
        "        for col in range(0,n2):\n",
        "            r.append(a[count])\n",
        "            count += 1\n",
        "        M.append(r)\n",
        "    return M\n",
        "A = makeMatrix(mat,8,8)\n",
        "print(A)\n",
        "# when a for loop is passed a container, the enumerate bif returns an index and value for each element\n",
        "# Example:\n",
        "for index, value in enumerate(my_list):\n",
        "    print(f\"Index: {index}, Value: {value}\")\n",
        "# Example (dictionary items):\n",
        "my_dict = {'a': 1, 'b': 2, 'c': 3}\n",
        "for key, value in my_dict.items():\n",
        "    print(f\"Key: {key}, Value: {value}\")\n",
        "# Example (dictionary keys)\n",
        "my_dict = {'a': 1, 'b': 2, 'c': 3}\n",
        "for key in my_dict.keys():\n",
        "    print(f\"Key: {key}\")\n",
        "# Example (dictionary values)\n",
        "my_dict = {'a': 1, 'b': 2, 'c': 3}\n",
        "for value in my_dict.values():\n",
        "    print(f\"Value: {value}\")"
      ],
      "metadata": {
        "id": "la7TVPBrBdnt",
        "colab": {
          "base_uri": "https://localhost:8080/"
        },
        "outputId": "637fe253-625b-46c9-d229-8d63db22523c"
      },
      "execution_count": null,
      "outputs": [
        {
          "output_type": "stream",
          "name": "stdout",
          "text": [
            "found 4 letter 's' in Mississippi\n",
            "less than or equal to 15 in list: [11, 15, 9, 12, 15, 4, 15]  and lost: [18, 23, 17] at index positions: [1, 4, 6]\n",
            "[2, 4, 6]\n",
            "[[0, 1, 2, 3, 4, 5, 6, 7], [8, 9, 10, 11, 12, 13, 14, 15], [16, 17, 18, 19, 20, 21, 22, 23], [24, 25, 26, 27, 28, 29, 30, 31], [32, 33, 34, 35, 36, 37, 38, 39], [40, 41, 42, 43, 44, 45, 46, 47], [48, 49, 50, 51, 52, 53, 54, 55], [56, 57, 58, 59, 60, 61, 62, 63]]\n",
            "Index: 0, Value: 11\n",
            "Index: 1, Value: 15\n",
            "Index: 2, Value: 9\n",
            "Index: 3, Value: 12\n",
            "Index: 4, Value: 15\n",
            "Index: 5, Value: 4\n",
            "Index: 6, Value: 15\n",
            "Key: a, Value: 1\n",
            "Key: b, Value: 2\n",
            "Key: c, Value: 3\n",
            "Key: a\n",
            "Key: b\n",
            "Key: c\n",
            "Value: 1\n",
            "Value: 2\n",
            "Value: 3\n"
          ]
        }
      ]
    },
    {
      "cell_type": "code",
      "source": [
        "# while loops (conditional loop statement)\n",
        "# statements block executed as long as condition is True\n",
        "# while logical expression:\n",
        "#   statement block\n",
        "# Example:(print integers 1 to 5)\n",
        "# i = 1\n",
        "# n = 5\n",
        "# while i <= n:\n",
        "#    print(i)\n",
        "#    i += 1\n",
        "# Example:(first integer divisible by two others)\n",
        "# a = 3\n",
        "# b = 7\n",
        "# n = 1\n",
        "# while True:\n",
        "#  if (n % a == 0) and (n % b == 0):\n",
        "#    print(\"{} is the first integer divisible by {} and {}\".format(n,a,b))\n",
        "#    break\n",
        "#  n += 1\n",
        "# Example:(using range function)\n",
        "i = 1\n",
        "while i in range(4):\n",
        "   print(i)\n",
        "   i += 1"
      ],
      "metadata": {
        "id": "7W7E8SzroMsv"
      },
      "execution_count": null,
      "outputs": []
    },
    {
      "cell_type": "code",
      "source": [
        "# if-else statement (conditional statement).\n",
        "# if condition:\n",
        "    # code to run if condition is True\n",
        "# else:\n",
        "    # code to run if condition is False\n",
        "# elif:\n",
        "    # code to run if condition is False (used to introduce an additional conditition to check)\n",
        "# Example:\n",
        "x = 10\n",
        "if x > 15:\n",
        "    print(\"x is greater than 15\")\n",
        "elif x > 10:\n",
        "    print(\"x is greater than 10 but not greater than 15\")\n",
        "else:\n",
        "    print(\"x is 10 or less\")\n",
        "# You can omit the else, elif branches if you don't need them.\n",
        "# You can put one branch statments on one line eg. if x >15: print(\"x is greater than 15\")\n",
        "# You can also create nested conditional statements."
      ],
      "metadata": {
        "id": "2HJOVLoKiojr",
        "colab": {
          "base_uri": "https://localhost:8080/"
        },
        "outputId": "dffb96d3-dd26-4fbb-efcc-a3e5e2cf2264"
      },
      "execution_count": null,
      "outputs": [
        {
          "output_type": "stream",
          "name": "stdout",
          "text": [
            "x is 10 or less\n"
          ]
        }
      ]
    },
    {
      "cell_type": "code",
      "source": [
        "# Optional else clause can be added to for/while loop where a break is present.\n",
        "# The else block will only be executed if the loop exits cleanly, ie the break is not envoked\n",
        "# Example:\n",
        "for line in file:\n",
        "    if line startswith(\"ERROR\"):\n",
        "        print(\"ERROR found\")\n",
        "        break\n",
        "else:\n",
        "    print(\"No errors found\")"
      ],
      "metadata": {
        "id": "4aWJJITS7WT6"
      },
      "execution_count": null,
      "outputs": []
    },
    {
      "cell_type": "code",
      "source": [
        "# a conditional expression is where one of two values is assigned to a variable depending on a boolean expression.\n",
        "# Example:\n",
        "# action = \"Get up\" if hour >= 7 else \"Go back to sleep\""
      ],
      "metadata": {
        "id": "21FSKNQP5qzj"
      },
      "execution_count": null,
      "outputs": []
    },
    {
      "cell_type": "code",
      "source": [
        "# exception handling\n",
        "# try:\n",
        "    # code that might raise an exception\n",
        "# except SomeException as e:\n",
        "    # handle the exception\n",
        "# else:\n",
        "    # code to run if no exception occurred\n",
        "# finally:\n",
        "    # code that always runs\n",
        "#Example:\n",
        "try:\n",
        "    result = 10 / 2\n",
        "except ZeroDivisionError as e:\n",
        "    print(f\"Error: {e}\")\n",
        "else:\n",
        "    print(\"No division error occurred.\")\n",
        "finally:\n",
        "    print(\"This will always execute.\")\n",
        "# Example:\n",
        "def exce_sum(a, b):\n",
        "    try:\n",
        "        if a == 0 and b == 0:\n",
        "            raise ValueError(\"Invalid number\")\n",
        "        return a + b\n",
        "    except ValueError as err:\n",
        "        return str(err)\n",
        "exce_sum(3,2)"
      ],
      "metadata": {
        "id": "TiHL73i0kmyc",
        "colab": {
          "base_uri": "https://localhost:8080/"
        },
        "outputId": "1867a325-31dc-4674-9c05-6aad94cbc56b"
      },
      "execution_count": null,
      "outputs": [
        {
          "output_type": "stream",
          "name": "stdout",
          "text": [
            "No division error occurred.\n",
            "This will always execute.\n"
          ]
        },
        {
          "output_type": "execute_result",
          "data": {
            "text/plain": [
              "5"
            ]
          },
          "metadata": {},
          "execution_count": 23
        }
      ]
    },
    {
      "cell_type": "code",
      "source": [
        "# define a function\n",
        "# a function is a block of reusable code that performs a specific task or set of tasks.\n",
        "# a method is a function that is also a property of an object.\n",
        "# a function in also an object\n",
        "# def function_name(parameters):\n",
        "#   Function body(code block)\n",
        "# perform tasks using parameters, return a value(optional)\n",
        "# Example:\n",
        "def add_numbers(a, b):\n",
        "    return a + b\n",
        "# Calling the function\n",
        "sum_result = add_numbers(5, 3)\n",
        "print(\"Sum:\", sum_result)\n",
        "# the return keyword is used to return a value from the function (optional).\n",
        "# the result variable above has local scope.\n",
        "# A parameter is a variable that stores a reference to one of the objects passed to a function (eg radius below).  Parameters have local scope.\n",
        "# For example:\n",
        "def calc_circumference(radius):\n",
        "    return 2 * 3.14159 * radius\n",
        "circumference_4 = calc_circumference(4)\n",
        "print(circumference_4)\n",
        "# Example: (provide different variables when calling the function)\n",
        "def multi_operation(a, b):\n",
        "    multi = a * b\n",
        "    div = a // b\n",
        "    return multi, div\n",
        "result_multi, result_div = multi_operation(3, 2)\n",
        "print(result_multi)  # Output: 6\n",
        "print(result_div)    # Output: 1\n",
        "# The above function returns a tuple that is uncpacked into 2 values.\n",
        "# if you leave out return nothing will be returned by the function, but the code will still run.\n",
        "# Example:\n",
        "def greet():\n",
        "    print(\"Hello, World!\")\n",
        "# Calling the function\n",
        "greet()\n",
        "# An argument is an object reference passed to a function when it is called.\n",
        "# functions can contain any number of two types of arguments: positional arguments and keyword arguments.\n",
        "# Positional arguments must be included in the correct order. Keyword arguments are included with a keyword and equals sign.\n",
        "# Place keyword arguments at end of list (with a default argument) eg (x,y=0)\n",
        "# You need to pass all the args unless it is default arg\n",
        "# You can set a default argument as None, which allows you to change a variable without redefining the function (see future_value function)\n",
        "# You can define a function with multiple undefined arguments ie (*args)\n",
        "# Example: (print all args)\n",
        "def print_args(*args):\n",
        "    print(args)\n",
        "print_args(1,2,3,\"Mum\")\n",
        "# *args are packed intk a tuple, a reference to which is copied into the parameter named args.\n",
        "# *args must be poisitoned in the parameter list after any required parameters.  args can be changed to another word.\n",
        "# Example: def subscribe(name, *hobbies):\n",
        "# The same thing can be acheieved by coding the function to expect a list/tuple\n",
        "# You can also indicate that a variable number of keyword arguments is expected (**kwargs)\n",
        "# Example:\n",
        "my_details={\"age\":49,\"name\":\"Mum\"}\n",
        "def print_kwargs(**kwargs):\n",
        "    for key, value in kwargs.items():\n",
        "        print(f\"{key}: {value}\")\n",
        "print_kwargs(**my_details)\n",
        "# A recursive function is when a function calls itself.\n",
        "# A practical recursion cannot be indefinite and requires a base case.\n",
        "# Example:\n",
        "def factorial(n):\n",
        "    if n == 0:\n",
        "        return 1 # bse case\n",
        "    return n * factorial(n - 1) # recursive call\n",
        "result = factorial(5)\n",
        "print(result)"
      ],
      "metadata": {
        "id": "RNQKYYRrN9jx",
        "colab": {
          "base_uri": "https://localhost:8080/"
        },
        "outputId": "b8f01078-0799-48d5-c0ae-4c62f6cde9ec"
      },
      "execution_count": null,
      "outputs": [
        {
          "output_type": "stream",
          "name": "stdout",
          "text": [
            "Sum: 8\n",
            "25.13272\n",
            "6\n",
            "1\n",
            "Hello, World!\n",
            "(1, 2, 3, 'Mum')\n",
            "age: 49\n",
            "name: Mum\n",
            "120\n"
          ]
        }
      ]
    },
    {
      "cell_type": "code",
      "source": [
        "# lambda is used to create small anonymous functions without a full definition\n",
        "# Example:\n",
        "def square(x): # Regular function\n",
        "    return x ** 2\n",
        "square_lambda = lambda x: x ** 2 # Equivalent lambda function\n",
        "print(square(5))\n",
        "print(square_lambda(5))\n",
        "# Example:\n",
        "my_numbers = [1, 2, 3, 4, 5]\n",
        "# Using lambda with map() to square each element in the list.\n",
        "squared_numbers = list(map(lambda x: x ** 2, my_numbers))\n",
        "print(squared_numbers)\n",
        "# Lambda also also works well with filter(), sorted()\n",
        "# Example: with filter()\n",
        "my_even_numbers = list(filter(lambda x: x % 2 == 0, my_numbers))\n",
        "print(my_even_numbers)\n",
        "# Example: with sorted()\n",
        "people = [('Alice', 30), ('Bob', 25), ('Charlie', 35), ('David', 28)]\n",
        "sorted_people = sorted(people, key=lambda person: person[1]) # sort the list based on the second element of each tuple (age)\n",
        "print(sorted_people)"
      ],
      "metadata": {
        "id": "_SYLzNO8dOfy",
        "colab": {
          "base_uri": "https://localhost:8080/"
        },
        "outputId": "c519e673-f931-4090-b262-5bad972ba4c8"
      },
      "execution_count": null,
      "outputs": [
        {
          "output_type": "stream",
          "name": "stdout",
          "text": [
            "25\n",
            "25\n",
            "[1, 4, 9, 16, 25]\n",
            "[2, 4]\n",
            "[('Bob', 25), ('David', 28), ('Alice', 30), ('Charlie', 35)]\n"
          ]
        }
      ]
    },
    {
      "cell_type": "code",
      "source": [
        "# scope\n",
        "# what happens in a function stays in a function (local or function scope)\n",
        "# what happens outside a function stays outside a function (global scope)\n",
        "# you cannot access local variables outside of a function as they are not committed to memory\n",
        "# a local variable using the same name as a global variable with mask a global variable.\n",
        "# use the global keyword in a function to make a local variable a global variable\n",
        "# typically used for constants or configuration values that need to be accessed from various parts of the program\n",
        "# nonlocal variables are used in nested functions, created with keyword nonlocal\n",
        "# nonlocal variables are neither in local or global scope.  If we change the value of a nonlocal variable, the changes appear in the local variable.\n",
        "# Example:\n",
        "x = 10  # This is a global variable\n",
        "def modify_global_variable():\n",
        "    global x  # Indicate that we are using the global variable 'x'\n",
        "    x += 5 # note you can access the global variable x without a return statement\n",
        "modify_global_variable()\n",
        "print(x)"
      ],
      "metadata": {
        "id": "gWKpNvoVs4FJ",
        "colab": {
          "base_uri": "https://localhost:8080/"
        },
        "outputId": "6b3313cb-e467-4567-8d5b-0cefa698b8d7"
      },
      "execution_count": null,
      "outputs": [
        {
          "output_type": "stream",
          "name": "stdout",
          "text": [
            "15\n"
          ]
        }
      ]
    },
    {
      "cell_type": "code",
      "source": [
        "# math module\n",
        "# provides a set of mathematical operations and functions for more advanced mathematical calculations\n",
        "# import math\n",
        "# Constants\n",
        "# math.pi, 3.141592653589793\n",
        "# math.e, 2.718281828459045\n",
        "# Mathematical functions\n",
        "# math.sqrt(25) 5.0 square root\n",
        "# math.fabs(-10) 10.0 absolute value\n",
        "# math.ceil(4.3) 5 ceiling\n",
        "# math.floor(4.9) 4 floor\n",
        "# math.pow(2, 3) 8.0 2**3\n",
        "# Trigonometric functions (input in radians)\n",
        "# math.sin(math.pi/2)) 1.0\n",
        "# math.cos(0) Output: 1.0\n",
        "# math.tan(math.pi/4) Output: 0.9999999999999999\n",
        "# Logarithmic functions\n",
        "# math.log(10)) 2.302585092994046 natural logitihm of 10\n",
        "# math.log10(100)) 2.0 base 10 logarithm of 100\n",
        "# cmath module for complex numbers"
      ],
      "metadata": {
        "id": "1JyXpR-A9JuA"
      },
      "execution_count": null,
      "outputs": []
    },
    {
      "cell_type": "code",
      "source": [
        "# datetime module\n",
        "# provides classes for working with dates and times\n",
        "# datetime class is a combination of date and time\n",
        "# Example: (current datetime object)\n",
        "from datetime import datetime, date, time, timedelta\n",
        "current_datetime = datetime.now()\n",
        "print(current_datetime)\n",
        "print(current_datetime.year) #print just the year\n",
        "# Example: (construct a specific date and time object)\n",
        "specific_datetime = datetime(2022, 12, 1, 10, 30)\n",
        "print(specific_datetime)\n",
        "# Example: (construct a specific date object)\n",
        "my_date = date(2022, 12, 1)\n",
        "print(my_date)\n",
        "# Example: (construct a specific time object)\n",
        "my_time = time(10, 30)\n",
        "print(my_time)\n",
        "# Example: (timedelta object, difference between two dates or times)\n",
        "today = datetime.now()\n",
        "tomorrow = today + timedelta(days=1)\n",
        "print(today)\n",
        "print(tomorrow)\n",
        "from datetime import datetime\n",
        "# Example: (parsing strings into datetime objects)\n",
        "date_string = \"2022-12-01 10:30:00\"\n",
        "parsed_datetime = datetime.strptime(date_string, \"%Y-%m-%d %H:%M:%S\")\n",
        "print(parsed_datetime)\n",
        "# Example: (formatting date objects into readable strings)\n",
        "print(current_datetime.strftime(\"%B\")) # current month (codes for other formats)\n",
        "# Unix Epoch time is the number of seconds since 1 January 1970.\n",
        "# unixtime = time.time() # returns the time now in seconds since midnight 1/1/70.\n",
        "# dt_now = datetime.datetime.now() # returns a local datetime now (this is timezone aware)\n",
        "# utc_now = datetime.datetime.utcnow() # returns the UTC datetime now # UTC is set to Greenwich.\n",
        "# localtime = reference.LocalTimezone()\n",
        "# localtime.tzname(today) #' returns name of tz where your computer is located"
      ],
      "metadata": {
        "id": "R7K77qHoBV2v",
        "colab": {
          "base_uri": "https://localhost:8080/"
        },
        "outputId": "c035eb57-56e5-4648-ef7e-c286b14a0e4b"
      },
      "execution_count": null,
      "outputs": [
        {
          "output_type": "stream",
          "name": "stdout",
          "text": [
            "2023-11-30 15:13:17.799046\n",
            "2023\n",
            "2022-12-01 10:30:00\n",
            "2022-12-01\n",
            "10:30:00\n",
            "2023-11-30 15:13:17.800267\n",
            "2023-12-01 15:13:17.800267\n",
            "2022-12-01 10:30:00\n",
            "November\n"
          ]
        }
      ]
    },
    {
      "cell_type": "code",
      "source": [
        "# random module\n",
        "# gerenates pseudo-random numbers (ie not truly random as generated with deterministic functions)\n",
        "# Example:\n",
        "import random\n",
        "random_number = random.random() # random float number in the range [0.0, 1.0]\n",
        "print(random_number)\n",
        "random_float = random.uniform(2.5, 5.5) # random float in specified range\n",
        "print(random_float)\n",
        "random_integer = random.randint(1, 10) # random integer in specified range\n",
        "print(random_integer)\n",
        "my_list = [1, 2, 3, 4, 5]\n",
        "random_element = random.choice(my_list) # random element from a given sequence\n",
        "print(random_element)\n",
        "random.shuffle(my_list) # shuffle the elements in a given sequence space\n",
        "print(my_list)\n",
        "random_sample = random.sample(my_list, 3) # a k-length list of unique elements from a population\n",
        "print(random_sample)\n",
        "# use random.seed() to initialize the random numebr generator with a particular seed value\n",
        "# This enables reproducbility of random number sequences.\n",
        "# Example:\n",
        "# random.seed(42)\n",
        "# without a seed value the random number generator is based on the system time"
      ],
      "metadata": {
        "colab": {
          "base_uri": "https://localhost:8080/"
        },
        "id": "5LoSY9b4BYqQ",
        "outputId": "05bc2a54-6dc7-4a64-9edd-66012cd28a97"
      },
      "execution_count": null,
      "outputs": [
        {
          "output_type": "stream",
          "name": "stdout",
          "text": [
            "0.15911778471714844\n",
            "5.080307311096613\n",
            "10\n",
            "4\n",
            "[3, 1, 2, 4, 5]\n",
            "[2, 4, 1]\n"
          ]
        }
      ]
    },
    {
      "cell_type": "code",
      "source": [
        "# a regular expression (re) in a sequence of charachters that forms a pattern.\n",
        "# the set of special charachters that can be used in the building of a re is not python specific\n",
        "# special charachters have 3 groups - metacharachters (eg ^ start of a string), sequences (eg \\b start of a word), sets (eg [abc] anyone of the set)\n",
        "# in a set metacharachters have no special meaning"
      ],
      "metadata": {
        "id": "pfxFwl-ut5yi"
      },
      "execution_count": null,
      "outputs": []
    },
    {
      "cell_type": "code",
      "source": [
        "# regular expressions module\n",
        "import re\n",
        "# used for pattern matching and searching in strings. Lots of options are available\n",
        "# re.match() looks for the first instance of a match at the start of a string\n",
        "# re.search() looks for the first instance of a match anywhere in a string\n",
        "# re.findall() returns a list of all matches in a string\n",
        "# re.split() splits a string on each occurence of a pattern\n",
        "# re.sub() replaces each occurrence of a pattern with a given string\n",
        "# re.compile() is used to return a regex object from a pattern.  The object can then be used with re methods, which is more efficient for repeated use of a pattern.\n",
        "# Example:\n",
        "pattern = \"sea|see\"\n",
        "text = \"a sailor went to sea to see what he could see\"\n",
        "regex = re.compile(pattern)\n",
        "matches = regex.findall(text) # method is called on regex object and is passed only the string to test\n",
        "print(matches)\n",
        "# Example: (search for the pattern in the text)\n",
        "pattern = r\"apple\"\n",
        "text = \"I like apples and oranges.\"\n",
        "match = re.search(pattern, text)\n",
        "if match:\n",
        "    print(\"Pattern found:\", match.group())\n",
        "else:\n",
        "    print(\"Pattern not found.\")\n",
        "# Example: (find all matches for whole words ending with 'es')\n",
        "pattern = r\"\\b\\w+es\\b\" #\\b is a word boundary #\\w+ one or more charachters\n",
        "text = \"I have two apples and three oranges.\"\n",
        "matches = re.findall(pattern, text) # find all occurrence of specified pattern\n",
        "print(\"Matches:\", matches)\n",
        "# Example (replace digits with other charachters)\n",
        "pattern = r\"\\d+\" #\\d matches any digit (0-9) +matches one or more occurrences of the preceding charachter or group\n",
        "text = \"Today is the 25th of December.\"\n",
        "result = re.sub(pattern, \"xx\", text) # find all and replace\n",
        "print(\"Result:\", result)\n",
        "# Example: (split a string into a list of substrings)\n",
        "pattern = r\"\\s+\" # r\"\\s+\" matches one or more whitespace characters (spaces, tabs, or newlines)\n",
        "text = \"This is a sample sentence.\"\n",
        "# Split the text based on whitespace characters\n",
        "result = re.split(pattern, text)\n",
        "print(\"Result:\", result)\n",
        "# Example: (extract day, month, and year using groups)\n",
        "pattern = r\"(\\d{2})-(\\d{2})-(\\d{4})\"\n",
        "# (\\d{2}): capturing group for two digits (month).\n",
        "# (\\d{4}): Capturing group for four digits (year).\n",
        "# - literal hyphen separator\n",
        "text = \"Date: 12-25-2022\"\n",
        "match = re.search(pattern, text)\n",
        "if match:\n",
        "    day, month, year = match.groups() #matches values from captured groups of digits\n",
        "    print(\"Day:\", day)\n",
        "    print(\"Month:\", month)\n",
        "    print(\"Year:\", year)\n",
        "else:\n",
        "    print(\"Pattern not found.\")"
      ],
      "metadata": {
        "id": "n4sLxCwyF7Sw",
        "colab": {
          "base_uri": "https://localhost:8080/"
        },
        "outputId": "bc8ee03c-6fec-403b-e51f-00957d558027"
      },
      "execution_count": 1,
      "outputs": [
        {
          "output_type": "stream",
          "name": "stdout",
          "text": [
            "['sea', 'see', 'see']\n",
            "Pattern found: apple\n",
            "Matches: ['apples', 'oranges']\n",
            "Result: Today is the xxth of December.\n",
            "Result: ['This', 'is', 'a', 'sample', 'sentence.']\n",
            "Day: 12\n",
            "Month: 25\n",
            "Year: 2022\n"
          ]
        }
      ]
    },
    {
      "cell_type": "code",
      "source": [
        "# platform module\n",
        "# This contains functions that examine the underlying platform e.g. os, python version"
      ],
      "metadata": {
        "id": "i2WIW5f1tTV2"
      },
      "execution_count": null,
      "outputs": []
    },
    {
      "cell_type": "code",
      "source": [
        "# resusable code\n",
        "# use *args as a syntax to allow a function to accept any number of positional arguments\n",
        "# Example:\n",
        "def print_args(*args):\n",
        "    for arg in args:\n",
        "        print(arg)\n",
        "print_args(1, 2, 3, 'four', [5, 6])\n",
        "# Example:\n",
        "def example_function(arg1, *args):\n",
        "    print(\"First argument:\", arg1)\n",
        "    print(\"Additional arguments:\", args)\n",
        "example_function(1, 2, 3, 4, 5)"
      ],
      "metadata": {
        "id": "xmouWqaQhNOV",
        "colab": {
          "base_uri": "https://localhost:8080/"
        },
        "outputId": "ded85703-dde2-47f3-f6e0-3fb11bbd2135"
      },
      "execution_count": null,
      "outputs": [
        {
          "output_type": "stream",
          "name": "stdout",
          "text": [
            "1\n",
            "2\n",
            "3\n",
            "four\n",
            "[5, 6]\n",
            "First argument: 1\n",
            "Additional arguments: (2, 3, 4, 5)\n"
          ]
        }
      ]
    },
    {
      "cell_type": "code",
      "source": [
        "# destructuring: unpacking operators * works on any type of collection, ** only for dictionaries\n",
        "a = [1,2,3,4]\n",
        "print(a)\n",
        "print(*a) # prints the elements of the list independently\n",
        "w,x,y,z = a # unpacking by hand, assigns contents of list to new variables\n",
        "print(w)\n",
        "a = [1,2,3,4] # unpack to 2 pieces\n",
        "x, *rest = a # pulls off first element as x, and assigns remainder to rest\n",
        "print(x)\n",
        "print(rest)\n",
        "# when working with tuples, the rest will be a list\n",
        "b = [5,6]\n",
        "c = [*a, *b] # unpacking can be used to concatenate lists (could also use a + b or extend())\n",
        "print(c)\n",
        "while(c): # while c is True (ie whilst c has elements)\n",
        "  x,*c = c # this while loop prints each element of c. It selects the first element of c as x, then moves the remainder to c\n",
        "  print(x)"
      ],
      "metadata": {
        "id": "K-khw7mrF0iR",
        "colab": {
          "base_uri": "https://localhost:8080/"
        },
        "outputId": "ea983c63-8cde-48dd-c0a6-909e6e8965a2"
      },
      "execution_count": null,
      "outputs": [
        {
          "output_type": "stream",
          "name": "stdout",
          "text": [
            "[1, 2, 3, 4]\n",
            "1 2 3 4\n",
            "1\n",
            "1\n",
            "[2, 3, 4]\n",
            "[1, 2, 3, 4, 5, 6]\n",
            "1\n",
            "2\n",
            "3\n",
            "4\n",
            "5\n",
            "6\n"
          ]
        }
      ]
    },
    {
      "cell_type": "code",
      "source": [
        "# passing named and unnamed arguments to a function using unpacking operators\n",
        "# args is used to pass unnamed arguments, and kwargs is used to pass named arguments\n",
        "def addition(x,y):\n",
        "  return x + y\n",
        "print(addition(3,5))\n",
        "print(addition(y=5,x=3)) # order with named arguments doesn't matter\n",
        "def add(*args): # args is a tuple\n",
        "    result = 0\n",
        "    for x in args:\n",
        "        result += x\n",
        "    return result\n",
        "print(add(20,30,40,50)) # we can now pass in any number of unnamed arguments\n",
        "# *kwargs is used to pass a key-worded variable of arguments to a function eg a dictionary\n",
        "def sum(*args, **kwargs): # args is a tuple\n",
        "    result = 0\n",
        "    for x in args:\n",
        "        result += x\n",
        "    for k, v in kwargs.items():\n",
        "        result += v\n",
        "    return result\n",
        "kwargs = {\"arg1\":20, \"arg2\":30} # a dictionary\n",
        "print(sum(20,30,**kwargs))\n",
        "# Example with named variables\n",
        "def mult_keyword(**kwargs):\n",
        "    result = 1\n",
        "    for i in kwargs:\n",
        "        result = result*kwargs[i]\n",
        "    return result\n",
        "print(mult_keyword(a=2,b=3,c=3))\n",
        "print(mult_keyword(a=1,b=5,c=2,d=3))"
      ],
      "metadata": {
        "id": "WVdYzCOYF0f0",
        "colab": {
          "base_uri": "https://localhost:8080/"
        },
        "outputId": "29319099-ed91-40c8-ae76-e78d77590d87"
      },
      "execution_count": null,
      "outputs": [
        {
          "output_type": "stream",
          "name": "stdout",
          "text": [
            "8\n",
            "8\n",
            "140\n",
            "100\n",
            "18\n",
            "30\n"
          ]
        }
      ]
    },
    {
      "cell_type": "code",
      "source": [
        "# you can use container items as function arguments\n",
        "# Example:\n",
        "def f(x,y,z):\n",
        "  return x + y * z\n",
        "my_list=[1,3,4]\n",
        "my_dict={'x':1,'y':3,'z':4}\n",
        "print(f(*my_list))\n",
        "print(f(**my_dict))"
      ],
      "metadata": {
        "colab": {
          "base_uri": "https://localhost:8080/"
        },
        "id": "eK4DV0R29sEK",
        "outputId": "794ed6a9-2b36-4990-949f-80938f6233f9"
      },
      "execution_count": null,
      "outputs": [
        {
          "output_type": "stream",
          "name": "stdout",
          "text": [
            "13\n",
            "13\n"
          ]
        }
      ]
    },
    {
      "cell_type": "code",
      "source": [
        "# decoration or wrapping functions wraps a function in another function\n",
        "# we can use the same decoration and wrapper for multiple functions\n",
        "# wrapping function can add additional functionality before or after calling the original function.\n",
        "def hello():\n",
        "    return \"Hello World\"\n",
        "print(hello())\n",
        "def wrapper_1(func):\n",
        "    greeting = \"Wrappers says\"\n",
        "    return f\"{greeting} {func()} !!!\"\n",
        "print(wrapper_1(hello))\n",
        "\n",
        "# more elegant is..\n",
        "# Example (top is wrapper function, bottom is original function)\n",
        "def mydeco_1(func):\n",
        "    def wrapper_2():\n",
        "        greeting = \"Wrappers says\"\n",
        "        return f\"{greeting} {func()} !!!\"\n",
        "    return wrapper_2\n",
        "hello = mydeco_1(hello) # this calls the original function below inside the wrapper\n",
        "\n",
        "@ mydeco_1 # @ is followed by decorator function name\n",
        "def hello():\n",
        "    return \"Hello World\"\n",
        "print(hello())\n",
        "\n",
        "# Example (top is wrapper function, bottom is original function)\n",
        "from functools import wraps # used to preserve the metadata of the original function when creating wrapper functions or decorators\n",
        "def mydeco_2(func):\n",
        "    @ wraps(func) # helps with debugging\n",
        "    def wrapper_3(*args,**kwargs):\n",
        "        result = func(*args,**kwargs)\n",
        "        return f'mydecorated result: {result} !!!'\n",
        "    return wrapper_3\n",
        "sum = mydeco_2(sum) # this calls the original function inside the wrapper\n",
        "\n",
        "@ mydeco_2 # @ is followed by decorator function name\n",
        "def sum(*args, **kwargs): # args is a tuple\n",
        "    result = 0\n",
        "    for x in args:\n",
        "        result += x\n",
        "    for k, v in kwargs.items():\n",
        "        result += v\n",
        "    return result\n",
        "kwargs = {\"arg1\":20, \"arg2\":30} # a dictionary\n",
        "args = (30,40)\n",
        "print(sum(*args,**kwargs))"
      ],
      "metadata": {
        "colab": {
          "base_uri": "https://localhost:8080/"
        },
        "id": "bnJwmV4e4HFL",
        "outputId": "3d9eea8a-3b40-4af2-f1e1-df9543ae9623"
      },
      "execution_count": null,
      "outputs": [
        {
          "output_type": "stream",
          "name": "stdout",
          "text": [
            "Hello World\n",
            "Wrappers says Hello World !!!\n",
            "Wrappers says Hello World !!!\n",
            "mydeocrated result: 120 !!!\n"
          ]
        }
      ]
    },
    {
      "cell_type": "code",
      "source": [
        "# you can assign a function to a variable and later execute the variable as a function\n",
        "# you can pass the function as a parameter to another function\n",
        "def sqrt(num):\n",
        "    return num**0.5\n",
        "def square(num):\n",
        "    return num**2\n",
        "def do_math(num, function):\n",
        "    return function(num)\n",
        "print(do_math(16, sqrt))\n",
        "print(do_math(8, square))"
      ],
      "metadata": {
        "colab": {
          "base_uri": "https://localhost:8080/"
        },
        "id": "WdhPdkPWWKVI",
        "outputId": "5aee8923-3ab1-4fc6-e327-cee7e91e0625"
      },
      "execution_count": null,
      "outputs": [
        {
          "output_type": "stream",
          "name": "stdout",
          "text": [
            "4.0\n",
            "64\n"
          ]
        }
      ]
    },
    {
      "cell_type": "code",
      "source": [
        "# In Python every object has an associated class.\n",
        "# An object's data and functions are its attributes.\n",
        "# Function attributes are referred to as methods.\n",
        "# An object's attributes are accessed using the dot notation <object>.<attribute.\n",
        "# The dir() bif returns the list of attibutes for an object\n",
        "# Example:\n",
        "my_string = \"Hello\"\n",
        "dir(my_string) # returns attributes of a string object\n",
        "# dunder methods are prefixed and suffixed with 2 underscores. They are not meant to be called directly.\n",
        "# dunder methods dictate the behaviour of operators, such as __add__().\n",
        "# bool, int, float, complex, str and tuple are immutable objects; list, dict and set are mutable.\n",
        "# changes made to immutable objects create new objects or an error."
      ],
      "metadata": {
        "id": "SsAVxcO2YaFx"
      },
      "execution_count": null,
      "outputs": []
    }
  ]
}