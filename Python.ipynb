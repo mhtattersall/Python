{
  "nbformat": 4,
  "nbformat_minor": 0,
  "metadata": {
    "colab": {
      "provenance": [],
      "authorship_tag": "ABX9TyP8Se8FTGlF99brO3bpcDjX",
      "include_colab_link": true
    },
    "kernelspec": {
      "name": "python3",
      "display_name": "Python 3"
    },
    "language_info": {
      "name": "python"
    }
  },
  "cells": [
    {
      "cell_type": "markdown",
      "metadata": {
        "id": "view-in-github",
        "colab_type": "text"
      },
      "source": [
        "<a href=\"https://colab.research.google.com/github/mhtattersall/Python/blob/main/Python.ipynb\" target=\"_parent\"><img src=\"https://colab.research.google.com/assets/colab-badge.svg\" alt=\"Open In Colab\"/></a>"
      ]
    },
    {
      "cell_type": "code",
      "execution_count": null,
      "metadata": {
        "id": "HwmBrlLJtD6q",
        "colab": {
          "base_uri": "https://localhost:8080/",
          "height": 36
        },
        "outputId": "dc176fda-bcd4-4eb6-f845-5b9ce14d285b"
      },
      "outputs": [
        {
          "output_type": "execute_result",
          "data": {
            "text/plain": [
              "'\\nAlternative for comments block \\nwith mulitple strings\\n'"
            ],
            "application/vnd.google.colaboratory.intrinsic+json": {
              "type": "string"
            }
          },
          "metadata": {},
          "execution_count": 65
        }
      ],
      "source": [
        "# use # for comments\n",
        "\"\"\"\n",
        "Alternative for comments block\n",
        "with mulitple strings\n",
        "\"\"\""
      ]
    },
    {
      "cell_type": "code",
      "source": [
        "# Good habits\n",
        "# use descriptive variable names and certainly none that conflict with function or method names\n",
        "# use different variable names when using nested functions\n",
        "# use snake case for function and variable names eg my_variable_name\n",
        "# use pascal case for naming classes eg MyClassName\n",
        "# camel case starts with lower case eg myClassName\n",
        "# know when functions are inplace or not\n",
        "# copy containers first before amendments so you have new object in memory\n",
        "# assigning another variable name does not create a new object eg a = [1,2,3], b = a\n",
        "# shallow copy (eg when slicing) is when python creates a new object but does not create new objects for the elements inside the original object\n",
        "# with shallow, if the elements are mutable (eg lists) changes made to the elements will be reflected in both the original and the shallow copy\n",
        "# deep copy creates a completely independent list and new objects for the items in the list\n",
        "# add clear comments to functions and classes\n",
        "# Example:\n",
        "def calculate_sum(x, y):\n",
        "    \"\"\"\n",
        "    Returns the sum of two numbers.\n",
        "    \"\"\"\n",
        "    return x + y\n",
        "# use type annotations\n",
        "# Bad\n",
        "def add(a, b):\n",
        "    return a + b\n",
        "# Good\n",
        "def add(a: int, b: int) -> int:\n",
        "    return a + b\n",
        "# don't overuse global variables. Use function parameters or class attributes instead\n",
        "# Example\n",
        "# Bad\n",
        "x = 5\n",
        "def multiply(y):\n",
        "    return x * y\n",
        "# Good\n",
        "def multiply(x, y):\n",
        "    return x * y\n",
        "# use list comprehensions when possible instead of for loops to generate list\n",
        "# use lambda to define simple functions in a single line\n",
        "# be specific in exception handling\n",
        "# Example:\n",
        "# Bad\n",
        "try:\n",
        "    value = int(user_input)\n",
        "except:\n",
        "    value = None\n",
        "# Good\n",
        "try:\n",
        "    value = int(user_input)\n",
        "except ValueError:\n",
        "    value = None\n",
        "# avoid hardcoding values. Use constants instead\n",
        "# Example:\n",
        "# Bad\n",
        "def calculate_area(radius):\n",
        "    return 3.14 * radius ** 2\n",
        "# Good\n",
        "PI = 3.14\n",
        "def calculate_area(radius):\n",
        "    return PI * radius ** 2\n",
        "# only import the fucntions you need from a module"
      ],
      "metadata": {
        "id": "zwzsFqHra-e2"
      },
      "execution_count": null,
      "outputs": []
    },
    {
      "cell_type": "code",
      "source": [
        "# methods and functions\n",
        "# Methods in Python are associated with object instances, while functions are not\n",
        "# When Python calls a method, it binds the first parameter of that call to the appropriate object reference.\n",
        "# A standalone function in Python is a “function\".\n",
        "# A function that is an attribute of a class or an instance is a “method”."
      ],
      "metadata": {
        "id": "sWhZGjtterLR"
      },
      "execution_count": null,
      "outputs": []
    },
    {
      "cell_type": "code",
      "source": [
        "# os module interacts with the operating system\n",
        "# import os\n",
        "# os library is used to set and get the working directory\n",
        "# working directory is the default file path that python reads or saves files into.\n",
        "# os.getcwd() gets the current directory\n",
        "# os.setcwd('C://file/path') sets the working directory to a new file path\n",
        "# os.listdir('C://file/path') lists the files in a directory\n",
        "# os.mkdir('C://file/path') creates a new directory\n",
        "# os.chdir('C://file/path') changes the directory\n",
        "# os.rmdir('C://file/path') removes a directory\n",
        "# file_exists = os.path.exists('/path/to/file.txt') check if file exists\n",
        "# file_info = os.stat('/path/to/file.txt') getting file information\n",
        "# os.rename('old_file.txt', 'new_file.txt') renaming a file\n",
        "# os.remove('/path/to/file.txt') removing a file\n",
        "# Example:\n",
        "# if os.path.exists('file.txt'):\n",
        "#     os.remove('file.txt')\n",
        "# else:\n",
        "#     print(\"The file does not exist\")"
      ],
      "metadata": {
        "id": "uzUM5zqNc80C"
      },
      "execution_count": null,
      "outputs": []
    },
    {
      "cell_type": "code",
      "source": [
        "# base types\n",
        "# int(whole numbers), float, bool (True or False), string(ordered series of charachters), and complex number type\n",
        "# ints, floats and strings are immutable\n",
        "# base types are not objects, if you pass them into functions they will not store changes unless they are assigned to a variable each time."
      ],
      "metadata": {
        "id": "WIRxgP_IRQ3p"
      },
      "execution_count": null,
      "outputs": []
    },
    {
      "cell_type": "code",
      "source": [
        "# floats have a binary representation\n",
        "# some floats are exact eg 1/8 = 0.125\n",
        "# some floats are not eg 0.1 = 0.1\n",
        "# the double-precision format uses 64 bits to represent a floating-point number\n",
        "# floats with a infinite binary fraction cannot be precisely represented using a finite number of bits\n",
        "# the decimal module give more precise decimal representations\n",
        "# f.is_integer() a bif for floats only that returns True (or False) if the number represents an int without any fractional part.\n",
        "# f.is_integer_ratio() returns a pair of integers whose ratio is exactly equal to the float\n",
        "# Example:\n",
        "f = 5.5\n",
        "r1 = f.as_integer_ratio()\n",
        "print(f.is_integer()) # True\n",
        "print(r1)  # (5, 1)"
      ],
      "metadata": {
        "colab": {
          "base_uri": "https://localhost:8080/"
        },
        "id": "89BU2GDyl4ot",
        "outputId": "56b0794d-bb97-45c1-de1d-ed230c9410eb"
      },
      "execution_count": null,
      "outputs": [
        {
          "output_type": "stream",
          "name": "stdout",
          "text": [
            "False\n",
            "(11, 2)\n"
          ]
        }
      ]
    },
    {
      "cell_type": "code",
      "source": [
        "# type conversions (casting)\n",
        "# type() returns the type of an object\n",
        "# int(\"15\")\n",
        "# int(15.56) returns 15 with decimal part truncated\n",
        "# float(10) if you try to convert a string that is not a valid floats it returens an error\n",
        "# list(\"abc\") returns ['a','b','c]\n",
        "# tuple() changes a list to a tuple, needs variable reassignment\n",
        "# set() changes a list to a set, needs varibale reassignment\n",
        "# Example:\n",
        "my_list = [0,200,15,\"name\"]\n",
        "my_tuple = tuple(my_list)\n",
        "print(my_tuple)\n",
        "# int(True) returns 1, intr(False) returns 0"
      ],
      "metadata": {
        "id": "z_WqtahhT_f0",
        "colab": {
          "base_uri": "https://localhost:8080/"
        },
        "outputId": "f94512b2-2b3e-4f2c-f8c6-349f3545cb69"
      },
      "execution_count": null,
      "outputs": [
        {
          "output_type": "stream",
          "name": "stdout",
          "text": [
            "(0, 200, 15, 'name')\n"
          ]
        }
      ]
    },
    {
      "cell_type": "code",
      "source": [
        "# variables store a result in memory\n",
        "# variable identifers must be on LHS, begin in lower case, must not be a keyword, and cannot have white space so use underscore\n",
        "# del list # used to delete memory in case you have used 'list' as a variable name\n",
        "# a = b = c = 10 # this is chained assignment"
      ],
      "metadata": {
        "id": "EW47tQUOuZVL"
      },
      "execution_count": null,
      "outputs": []
    },
    {
      "cell_type": "code",
      "source": [
        "# string methods\n",
        "# join() concatenates the elements of an iterable into a single string with a separator\n",
        "# result=\",\".join([\"apple\",\"banana\",\"orange\"]) returns apple,banana,orange\n",
        "# s.split() splits a string into list of substrings based on a separator(if none, defaults to whitespace)\n",
        "# s.upper(), s.lower() converts all charachters to upper or lowewr case\n",
        "# s.capitalise() capitalises the first charachter of the string\n",
        "# s.swapcase() swap case of all letters in the string\n",
        "# s.title() capitalises the first charachter of each word in a string\n",
        "# s.strip() removes leading and trailing whitespaces from a string\n",
        "# s.replace(\"old\",\"new\",count) replaces occurrences of a specified string with another substring, count(optional) is the maximum no of occurrences to replace\n",
        "# s.count() counts the number of occurrences of a substring\n",
        "# s.isalpha() checks if all contents of a string are letters and returns a boolean, returns False for a sentence with spaces\n",
        "# s.find(\"\") searches for the first occurrence of a substring in a string. Returns index or -1 if not found\n",
        "# s.index(\"\") searches for the first occurrence of a substring in a string. Returns index or error if not found\n",
        "# s[::-1] reverse a string in slicing notation\n",
        "# s[0:2] slicing a string to get a substring\n",
        "# 3*s repeats a string 3 times\n",
        "# s.startswith(), s.endswith() tests whether a string starts or ends wiht a substring\n",
        "# \"23\".zfill(4) returns \"0023\" by left-filling with zeros\n",
        "# \"end\" in s, returns True if substring \"end\" found in s"
      ],
      "metadata": {
        "id": "zv564zPrUfuH"
      },
      "execution_count": null,
      "outputs": []
    },
    {
      "cell_type": "code",
      "source": [
        "# int methods\n",
        "# i.bit_length() returns the no of bits necessary to represent a number in binary"
      ],
      "metadata": {
        "id": "vwf5ENSg4tdH"
      },
      "execution_count": null,
      "outputs": []
    },
    {
      "cell_type": "code",
      "source": [
        "# string formatting\n",
        "# \\n, \\s, \\t new line, space, tab\n",
        "# \\r escape all the charachters in a string\n",
        "# r prefix is for a raw string. In a raw string, backslashes are treated as literal characters and are not used as escape characters.\n",
        "# + concatenation\n",
        "# Example:\n",
        "name = \"Alice\"\n",
        "age = 30\n",
        "result = \"My name is \" + name + \" and I am \" + str(age) + \" years old.\"\n",
        "print(result)\n",
        "# % interpolation\n",
        "# Example:\n",
        "name = \"Bob\"\n",
        "age = 25\n",
        "result = \"My name is %s and I am %d years old.\" % (name, age)\n",
        "print(result)\n",
        "#s.format()\n",
        "# Example:\n",
        "name = \"Charlie\"\n",
        "age = 35\n",
        "result = \"My name is {} and I am {} years old.\".format(name, age)\n",
        "print(result)\n",
        "# Example:\n",
        "pi_value = 3.14159265359\n",
        "formatted_string = \"The value of pi is {:.2f}\".format(pi_value)\n",
        "print(formatted_string)\n",
        "# f-strings\n",
        "# Example:\n",
        "name = \"David\"\n",
        "age = 40\n",
        "result = f\"My name is {name} and I am {age} years old.\"\n",
        "print(result)"
      ],
      "metadata": {
        "id": "lT9qko0qbIIP",
        "colab": {
          "base_uri": "https://localhost:8080/"
        },
        "outputId": "b0ea127f-fa33-4f85-b20d-647b3c47c15c"
      },
      "execution_count": null,
      "outputs": [
        {
          "output_type": "stream",
          "name": "stdout",
          "text": [
            "My name is Alice and I am 30 years old.\n",
            "My name is Bob and I am 25 years old.\n",
            "My name is Charlie and I am 35 years old.\n",
            "The value of pi is 3.14\n",
            "My name is David and I am 40 years old.\n"
          ]
        }
      ]
    },
    {
      "cell_type": "code",
      "source": [
        "# print bif (built-in function)\n",
        "# print()\n",
        "# , separator and puts space in the output\n",
        "# + used to concatentate (see input bif below)\n",
        "# print('Hi', file=open('output.txt', 'a')) print to specified file in append mode"
      ],
      "metadata": {
        "id": "KrjhueeM7oDU"
      },
      "execution_count": null,
      "outputs": []
    },
    {
      "cell_type": "code",
      "source": [
        "# help bif\n",
        "# provides information about the object and its attributes, methods, and usage\n",
        "# Example:\n",
        "help(print) # built-in function (e.g., print)\n",
        "help(list) # built-in object (e.g., list)"
      ],
      "metadata": {
        "id": "p56BHKzq7j1W"
      },
      "execution_count": null,
      "outputs": []
    },
    {
      "cell_type": "code",
      "source": [
        "# id bif\n",
        "# used to get the unique identifier (memory address) of an object\n",
        "# can be used to check if an object is unique or shared with another varibale"
      ],
      "metadata": {
        "id": "N8U6z-fGtyQW"
      },
      "execution_count": null,
      "outputs": []
    },
    {
      "cell_type": "code",
      "source": [
        "# round bif\n",
        "# round(number, digits) rounds a number to a given number of digits\n",
        "# in case of a tie, rounds to nearest even integer (banker's rounding)"
      ],
      "metadata": {
        "id": "n6Q_JIYXW58j"
      },
      "execution_count": null,
      "outputs": []
    },
    {
      "cell_type": "code",
      "source": [
        "# abs bif\n",
        "# abs() returns the absolute value of a number"
      ],
      "metadata": {
        "id": "3f4vSZOK3Unx"
      },
      "execution_count": null,
      "outputs": []
    },
    {
      "cell_type": "code",
      "source": [
        "# file methods\n",
        "# open(filename, mode) bif\n",
        "# Open file and return a file object, which can be used with read, write, append operations.\n",
        "# Can specify encoding of charachters for text files e.g. utf8, ascii, latin1\n",
        "# file name on file, or paths with functions os and os.path\n",
        "# Reading from a file\n",
        "# with open('example.txt', 'r') as file:\n",
        "#    content = file.read()\n",
        "#    print(content)\n",
        "# 'r' opens a file for read only, 'r+' opens a file for reading and writing, 'w' opens a file for writing\n",
        "# s = f.read(4) reads first 4 charachters of file, read all if no size specified\n",
        "# s = f.readline() reads a single line from the file\n",
        "# s = f.readlines() reads all lines from the file and returns them as a list\n",
        "# Writing to a file\n",
        "# with open('output.txt', 'w') as file:\n",
        "#    file.write('Hello, World!')\n",
        "# Appending to a file\n",
        "# with open('output.txt', 'a') as file:\n",
        "#    file.write('\\nAppending more text.')\n",
        "# 'with' used to ensure file is propertly closed after operations and releases memory\n",
        "# file_object.close() close an opened file"
      ],
      "metadata": {
        "id": "u7E0wR1l4b_Y"
      },
      "execution_count": null,
      "outputs": []
    },
    {
      "cell_type": "code",
      "source": [
        "# reading csv files and storing in a list\n",
        "# import csv\n",
        "# f = open *my_dataset\".csv,\"r\")\n",
        "# csvreader = csv.reader(f)\n",
        "# csv_as_list - list(csv)"
      ],
      "metadata": {
        "id": "qzzbK4ueE_09"
      },
      "execution_count": null,
      "outputs": []
    },
    {
      "cell_type": "code",
      "source": [
        "# enumerarate bif\n",
        "# enumerate() yields on object containing pairs (a count and a value) i.e. an indexed list\n",
        "# Example:\n",
        "my_list = [\"eat\", \"sleep\", \"repeat\"]\n",
        "# creating enumerate objects\n",
        "obj_1 = enumerate(my_list)\n",
        "print (\"Return type:\", type(obj_1))\n",
        "print (list(enumerate(my_list))) #list of tuples\n",
        "for i,v in enumerate(my_list):\n",
        "  print(i,v) #print each index and value"
      ],
      "metadata": {
        "id": "gUhkh5n7tTiu",
        "colab": {
          "base_uri": "https://localhost:8080/"
        },
        "outputId": "2072caa5-dc8d-47df-bcc8-592e5b68ed8f"
      },
      "execution_count": null,
      "outputs": [
        {
          "output_type": "stream",
          "name": "stdout",
          "text": [
            "Return type: <class 'enumerate'>\n",
            "[(0, 'eat'), (1, 'sleep'), (2, 'repeat')]\n",
            "0 eat\n",
            "1 sleep\n",
            "2 repeat\n"
          ]
        }
      ]
    },
    {
      "cell_type": "code",
      "source": [
        "# input bif\n",
        "# input() request for user input, stored in the message variable\n",
        "# automatically stored as strings, so convert to integer if performing a maths operation\n",
        "# Example:\n",
        "name = input(\"Enter your name: \")\n",
        "print(\"Your name is \"+ name + \".\")\n",
        "# Example:\n",
        "age = int(input(\"How old are you?\"))\n",
        "print(\"You are\",age,\"years old.\")"
      ],
      "metadata": {
        "id": "K5xfo-S61q_l",
        "colab": {
          "base_uri": "https://localhost:8080/"
        },
        "outputId": "34c3b2ab-3e48-452c-b3ea-616f06c65e3c"
      },
      "execution_count": null,
      "outputs": [
        {
          "output_type": "stream",
          "name": "stdout",
          "text": [
            "Enter your name: Michael\n",
            "Your name is Michael.\n",
            "How old are you?48\n",
            "You are 48 years old.\n"
          ]
        }
      ]
    },
    {
      "cell_type": "code",
      "source": [
        "# reversed bif\n",
        "# used to reverse a sequence eg list, tuple, string and modifies the original object (in-place)\n",
        "# Example:\n",
        "original_list = [1, 2, 3, 4, 5]\n",
        "reversed_list = list(reversed(original_list))\n",
        "print(\"Original List:\", original_list)\n",
        "print(\"Reversed List:\", reversed_list)"
      ],
      "metadata": {
        "id": "lkxlqKv66glj",
        "colab": {
          "base_uri": "https://localhost:8080/"
        },
        "outputId": "122fd18d-2157-403e-ca72-19ee4a445c19"
      },
      "execution_count": null,
      "outputs": [
        {
          "output_type": "stream",
          "name": "stdout",
          "text": [
            "Original List: [1, 2, 3, 4, 5]\n",
            "Reversed List: [5, 4, 3, 2, 1]\n"
          ]
        }
      ]
    },
    {
      "cell_type": "code",
      "source": [
        "# range bif\n",
        "# generates a sequence of integers\n",
        "# return a range object that produces a sequence of integers from start (inclusive) to stop (exclusive) by step\n",
        "# Example:\n",
        "for i in range(5):\n",
        "  print(i)\n",
        "my_list = list(range(3,10,2)) #creates a list with the range object\n",
        "print(my_list)"
      ],
      "metadata": {
        "id": "27V8ssPtMfYm",
        "colab": {
          "base_uri": "https://localhost:8080/"
        },
        "outputId": "4a1382f9-eea8-460a-f555-914120fd4339"
      },
      "execution_count": null,
      "outputs": [
        {
          "output_type": "stream",
          "name": "stdout",
          "text": [
            "0\n",
            "1\n",
            "2\n",
            "3\n",
            "4\n",
            "[3, 5, 7, 9]\n"
          ]
        }
      ]
    },
    {
      "cell_type": "code",
      "source": [
        "# zip bif\n",
        "# combines multiple iterables element-wise and returns an iterator of tuples\n",
        "# Example:\n",
        "my_list_1 = [1, 2, 3]\n",
        "my_list_2 = ['a', 'b', 'c']\n",
        "my_zipped = zip(my_list_1, my_list_2)\n",
        "print(my_zipped) #zip is a zip object\n",
        "for i in my_zipped:\n",
        "    print(i) #prints the tuples in the zip object\n",
        "my_dict = dict(zip(my_list_1,my_list_2)) #returns the zipped tuples as a dictionary\n",
        "print(my_dict)\n",
        "# note that once you iterate you cannot use the zip object again\n",
        "my_zipped = zip(my_list_1, my_list_2)\n",
        "my_unzipped = list(zip(*my_zipped))\n",
        "print(my_unzipped)"
      ],
      "metadata": {
        "id": "5kRGUGS1NLnL",
        "colab": {
          "base_uri": "https://localhost:8080/"
        },
        "outputId": "9fe87e47-b984-4fa3-a9ab-8276453c0130"
      },
      "execution_count": null,
      "outputs": [
        {
          "output_type": "stream",
          "name": "stdout",
          "text": [
            "<zip object at 0x7af8e712d080>\n",
            "(1, 'a')\n",
            "(2, 'b')\n",
            "(3, 'c')\n",
            "{1: 'a', 2: 'b', 3: 'c'}\n",
            "[(1, 2, 3), ('a', 'b', 'c')]\n"
          ]
        }
      ]
    },
    {
      "cell_type": "code",
      "source": [
        "# Counter\n",
        "# used for counting the occurrences of elements in an iterable\n",
        "# Example:\n",
        "from collections import Counter\n",
        "my_list = [1, 2, 3, 1, 2, 1, 4, 5, 4]\n",
        "count = Counter(my_list) # count each item\n",
        "print(count)\n",
        "print(type(count))\n",
        "print(count[1])\n",
        "most = count.most_common(3) # 3 most common items and their counts\n",
        "print(most)"
      ],
      "metadata": {
        "id": "bbn4c4SkXFlw",
        "colab": {
          "base_uri": "https://localhost:8080/"
        },
        "outputId": "2d8535f7-a765-4583-a5f1-862f0022f153"
      },
      "execution_count": null,
      "outputs": [
        {
          "output_type": "stream",
          "name": "stdout",
          "text": [
            "Counter({1: 3, 2: 2, 4: 2, 3: 1, 5: 1})\n",
            "<class 'collections.Counter'>\n",
            "3\n",
            "[(1, 3), (2, 2), (4, 2)]\n"
          ]
        }
      ]
    },
    {
      "cell_type": "code",
      "source": [
        "# arithmetic operators: + - * / (/ results in a float even if answer is an int)\n",
        "# //floor division returns integer\n",
        "# % modulo return remainder\n",
        "# ** power\n",
        "# ** 0.5 square root"
      ],
      "metadata": {
        "id": "x55ukGm1yDtd"
      },
      "execution_count": null,
      "outputs": []
    },
    {
      "cell_type": "code",
      "source": [
        "# assignment operators (assign values to variables):\n",
        "# =\n",
        "# += adds amount\n",
        "# -= subtracts amount\n",
        "# *= multiplication assignment\n",
        "# /= division assignment\n",
        "# %= remainder assignment\n",
        "# **= exponent assignment"
      ],
      "metadata": {
        "id": "1JoARokYzRu6"
      },
      "execution_count": null,
      "outputs": []
    },
    {
      "cell_type": "code",
      "source": [
        "# comparison operators (returns boolean True or False)\n",
        "# == equal to\n",
        "# != not equal to\n",
        "# > greater than\n",
        "# < less than\n",
        "# >= greater or equal to\n",
        "# <= less than or equal to"
      ],
      "metadata": {
        "id": "oXvzPphD0g-f"
      },
      "execution_count": null,
      "outputs": []
    },
    {
      "cell_type": "code",
      "source": [
        "# logical operators (check if an expression is True or False)\n",
        "# and, or, not\n",
        "# identity operators (used to check if two values are located on same part of the memory)\n",
        "# is, is not\n",
        "# membership operators (used to test whether a value or variable is in a container/sequence)\n",
        "# in, not in\n",
        "# bitwise operators (act on operands as is they were stings of binary digits)\n",
        "# &\tAND\n",
        "#| OR\n",
        "# ^\tXOR\tCompares each bit of two integers. The resulting bit is 1 if the corresponding bits are different, and 0 if they are the same.\n",
        "# ~\tNOT\tInverts all the bits\n",
        "# <<\tLeft Shift\tShifts bits to the left, fills with 0s on the right\n",
        "# >>\tRight Shift\tShifts bits to the right, fills with sign bit on the left (for negative numbers) or 0s (for positive numbers)\n",
        "# Example (XOR):\n",
        "a = 5        # 5 in binary is 0101\n",
        "b = 3        # 3 in binary is 0011\n",
        "result = a ^ b  # result is 6 (0110 in binary)"
      ],
      "metadata": {
        "id": "6LoHEKbs1slY"
      },
      "execution_count": null,
      "outputs": []
    },
    {
      "cell_type": "code",
      "source": [
        "# container types (collections)\n",
        "# [list] ordered, changeable, allows duplicates, indexed\n",
        "# list are useful for storing items with different data types and with 1 dimension\n",
        "# (tuple) ordered, immutable, allows duplicates, indexed\n",
        "# tuples are for fixed collections of items, where the data should remain constant throughout the program\n",
        "# {dictionary} key:value pairs, unordered, changeable, no duplicates\n",
        "# dictionaries allow you to access a value directly if you know the key, whereas lists iterate through all elements to find a value\n",
        "# {set} unordered, changeable, no duplicates, no index\n",
        "# strings, lists and tuples are also sequences (ordered), which means you can perform index operations\n",
        "# l = list(), tuple = (), set = ()  # list, tuple, set constructors"
      ],
      "metadata": {
        "id": "h6u531qW277R"
      },
      "execution_count": null,
      "outputs": []
    },
    {
      "cell_type": "code",
      "source": [
        "# indexing and slicing\n",
        "# slicing creates a new shallow memory object\n",
        "# Example: [10,20,30,40,50,60]\n",
        "# zero-based 0 1 2 3 4 5\n",
        "# negative -6 -5 -4 -3 -2 -1\n",
        "# [:] all\n",
        "# [:-1] all except last\n",
        "# [::2] start at 0, step 2\n",
        "# [start,stop,step]\n",
        "# [::-1] reverse the order of a list and creates a new object without modifying the original\n",
        "# [1:3] slices a list from index 1 to but including index 3\n",
        "# [:2] first 2 elements\n",
        "# [1:] all elements from 2nd to last\n",
        "# [-3] last 3 elements\n",
        "# Example\n",
        "l = list(range(1,11)) # list of ints 1 to 10\n",
        "l[::2][::-1] # select every other element and reverse the list"
      ],
      "metadata": {
        "id": "hKyqzS3T3vR7",
        "colab": {
          "base_uri": "https://localhost:8080/"
        },
        "outputId": "f5841c1d-131a-499d-fb8a-e5ba673cadf7"
      },
      "execution_count": null,
      "outputs": [
        {
          "output_type": "execute_result",
          "data": {
            "text/plain": [
              "[9, 7, 5, 3, 1]"
            ]
          },
          "metadata": {},
          "execution_count": 4
        }
      ]
    },
    {
      "cell_type": "code",
      "source": [
        "# operations on containers\n",
        "# len() returns no of items\n",
        "# min(), max(), sum()\n",
        "# sorted() return a new list containing all items in ascending order\n",
        "# index(val) returns first index of specified value\n",
        "# count(val) returns number of occurrences of a specified value\n",
        "# clear() removes all elements and leaves container empty\n",
        "# list operations:\n",
        "# l.index() return item at specified index\n",
        "# l.append(item) adds item to end\n",
        "# 1 += assign items to a list # Example:\n",
        "l = ['a','b','c']\n",
        "l += 'de'\n",
        "l\n",
        "# l.extend(seq) adds sequence of items to end\n",
        "# l.insert(idx,val) insert item at index\n",
        "# l.pop(idx) remove item at index and return its value\n",
        "# l.remove() removes first occurrence of a specified element and raises an error if not present\n",
        "# del l[5] deletes item at index 5\n",
        "# del 1[:4] deletes first 4 items\n",
        "# l.sort() sorts list in ascending order(default)\n",
        "# l*3 returns a list with 2 extra copies appended to the list\n",
        "# l[0] = 50, updates first element of a list\n",
        "# l[:2] = [40,40], updates first 2 elements with a new list\n",
        "# l[1:] = [40,40,50], updates the elements after the first with a new list\n",
        "# note: slicing creates a new list\n",
        "# l.copy() makes a shallow copy of a list ie a new memory object for the list, but does not create new objects for the elements in the list\n",
        "# l2 = l1[:] shallow copy using slicing\n",
        "# l.deepcopy(), creates a completely independent copy of the original object along with all the objects contained within it\n",
        "# l = l + [50] adds a new element to a list (can only concatenate another list to a list)\n",
        "# nested lists\n",
        "# Example:\n",
        "# my_list = [[1, 2, 3], [4, 5, 6], [7, 8, 9]]\n",
        "# print(my_list[0][0]) # access item at first row, first column\n",
        "# t=(1,) # create a tuple with a single item\n",
        "# tuple operations:\n",
        "# t[0] returns first element of a tuple\n",
        "# t[-1] returns last element of a tuple\n",
        "# x, y = t, unpacks and assigns contents to variables x and y\n",
        "# Example:\n",
        "# my_tuple = (1,2,3,4)\n",
        "# a,*args = my_tuple #args is a list with all other elements\n",
        "# print(a, args)\n",
        "# cmp() # compare the elements of two tuples\n",
        "# tuples can be used as individal dictionary keys\n",
        "# only immutable objects are allowed as dictionary keys\n",
        "# dictionary operations:\n",
        "# d[key] = val assigns val to key\n",
        "# d[key] returns corresponding value\n",
        "# del d[key] deletes key\n",
        "# d[new_key] = d.pop(old_key) # change a key\n",
        "# d.update(d2) adds elements from another dictionary, if key already exists it is updated\n",
        "# d.keys(), d.values(), d.items()\n",
        "# d.pop(key) remove and return an item with a specified key\n",
        "# d.popitem() remove and return last inserted key:value pair as a tuple\n",
        "# d.get(\"GB\",\"UK\") returns value for key \"AU\", or \"Sorry\" if \"AU\" not found\n",
        "# max (d, key=.d.get) returns the ket for largest value in d\n",
        "# \"GB\" in d, checks if \"GB\" is a key in d\n",
        "# l = d.values(), list(l) creates a list with dictionary values\n",
        "# Example:\n",
        "# d = {\"Dad\":48,\"Mum\":47}\n",
        "# my_list = list(d.values())\n",
        "# print(my_list)\n",
        "# list(d.items()) returns key value pairs as a list of tuples\n",
        "# iterate over items in a dictionary\n",
        "# Example: (can be done for just keys or values)\n",
        "# for key, val in d.items():\n",
        "#  print(f\"key: {key}, value: {value}\"\")\n",
        "# for key in d:\n",
        "#  print(d[key]) # prints values\n",
        "# for key in d:\n",
        "#  print(key)  # prints keys\n",
        "# for i in d:\n",
        "#  print(i)  # prints keys\n",
        "# x={}, y={}, z={**x,**y} merge two dictionaries\n",
        "# Example: (create a dict from a list using index as keys)\n",
        "a = [1,2,3]\n",
        "b = {}\n",
        "for index,value in enumerate(a):\n",
        "  b[index] = value\n",
        "print(b)\n",
        "# set operations:\n",
        "# |union, & intersection, - difference, ^ symmetric difference (unique elements ie removing intersection)\n",
        "# s.update(s2) update the current set with elements from another set or iterable (eg list or tuple)\n",
        "# s.add() adds an element to a set\n",
        "# s.remove() removes an element from a set and raises an error if element not present\n",
        "# s.discard() removes an elements from a set, but doesn't raise an error if element not present\n",
        "# \"GB\" in s. returns True if \"GB\" in s"
      ],
      "metadata": {
        "id": "FWskE7jVq9ZY",
        "colab": {
          "base_uri": "https://localhost:8080/"
        },
        "outputId": "16e9719b-a69e-40b5-8c9f-9eece5d523ee"
      },
      "execution_count": null,
      "outputs": [
        {
          "output_type": "stream",
          "name": "stdout",
          "text": [
            "{0: 1, 1: 2, 2: 3}\n"
          ]
        }
      ]
    },
    {
      "cell_type": "code",
      "source": [
        "# list and dictionary comprehension (used in preference to for loops)\n",
        "# a concise way to create lists based on an existing iterable by applying an expression to each element\n",
        "# syntax: new_list = [expression (what you want) for item in iterable (for loop) if condition (condition)]\n",
        "# or simpler, create a [] making an operation on these items with a condition\n",
        "# Example:\n",
        "my_squares = [x**2 for x in range(10)]\n",
        "print(my_squares)\n",
        "my_evens = [x for x in range(10) if x % 2 == 0]\n",
        "print(my_evens)\n",
        "my_pairs = [(x, x**2) for x in range(5)] # creates a list of tuples\n",
        "print(my_pairs)\n",
        "my_days = [\"Monday\",\"Tuesday\",\"Wednesday\"]\n",
        "lower_days=[my_days.lower() for my_days in my_days]\n",
        "print(lower_days)\n",
        "# Example: (all combinations of the elements in 2 tuples)\n",
        "tuple_a=(4,5)\n",
        "tuple_b=(7,8)\n",
        "combinations_list=[(x, y) for x in a for y in b]\n",
        "print(combinations_list)\n",
        "# Example: (from a list to a dictionary)\n",
        "my_old_list = [1,2,3]\n",
        "my_new_dict_1 = {item * 3 for item in my_old_list if item < 3}\n",
        "print(my_new_dict_1)\n",
        "# Example: (dict comprehension)\n",
        "my_old_dict = {0:1, 1:2, 2:3}\n",
        "my_new_dict_2 = {key:value * 7 for key, value in my_old_dict.items() if key == 1}\n",
        "print(my_new_dict_2)\n",
        "# Example: (dict with keys integers fom 1 to 7, values squares of those integers)\n",
        "my_squares_dict = {key: value * key for key, value in enumerate(range(1, 8), start=1)}\n",
        "print(my_squares_dict)\n",
        "# Example: (sort list items stored as dict values)\n",
        "my_dict = {'n1': [2, 3, 1], 'n2': [5, 1, 2], 'n3': [3, 2, 4]}\n",
        "my_sorted_dict = {key: sorted(value) for key, value in my_dict.items()}\n",
        "print(my_sorted_dict)\n",
        "# See studentGradesDb.py Example for list comprension in a function\n",
        "# Example:\n",
        "# def getGrade(db, student_id, pset_id):\n",
        "#    return [row['points'] for row in db['grades']\n",
        "#        if row['student'] ==student_id and row['pset'] ==pset_id]"
      ],
      "metadata": {
        "id": "2CpaPHepTk2j",
        "colab": {
          "base_uri": "https://localhost:8080/"
        },
        "outputId": "ab0a7dc1-46d8-452e-bb5a-5992908faac7"
      },
      "execution_count": null,
      "outputs": [
        {
          "output_type": "stream",
          "name": "stdout",
          "text": [
            "[0, 1, 4, 9, 16, 25, 36, 49, 64, 81]\n",
            "[0, 2, 4, 6, 8]\n",
            "[(0, 0), (1, 1), (2, 4), (3, 9), (4, 16)]\n",
            "['monday', 'tuesday', 'wednesday']\n",
            "[(4, 7), (4, 8), (5, 7), (5, 8)]\n",
            "{3, 6}\n",
            "{1: 14}\n",
            "{1: 1, 2: 4, 3: 9, 4: 16, 5: 25, 6: 36, 7: 49}\n",
            "{'n1': [1, 2, 3], 'n2': [1, 2, 5], 'n3': [2, 3, 4]}\n"
          ]
        }
      ]
    },
    {
      "cell_type": "code",
      "source": [
        "# for loops (iterative loop statement)\n",
        "# statements block executed for each item of a container or iterator\n",
        "# for variable in sequence:\n",
        "#   statements block\n",
        "# Example: (going over sequence values)\n",
        "word = \"Mississippi\"\n",
        "count = 0\n",
        "for l in word:\n",
        "  if l == \"s\":\n",
        "    count += 1\n",
        "print(\"found\",count,\"letter 's' in\",word)\n",
        "# Example: (going over sequence index)\n",
        "my_list = [11,18,9,12,23,4,17]\n",
        "lost = []\n",
        "index_pos = []\n",
        "for idx in range(len(my_list)):\n",
        "  val = my_list[idx]\n",
        "  if val > 15:\n",
        "    lost.append(val)\n",
        "    index_pos.append(idx)\n",
        "    my_list[idx] = 15\n",
        "print(\"less than or equal to 15 in list:\",my_list,\" and lost:\",lost,\"at index positions:\",index_pos)\n",
        "# Example:(go over sequence values and index to acheive same outcome)\n",
        "a = [1,2,3]\n",
        "b= []\n",
        "#for value in a:\n",
        "#  b.append(value * 2)\n",
        "for index in range(0,len(a)):\n",
        "  b.append(a[index] * 2)\n",
        "print(b)\n",
        "# Example: making a matrix\n",
        "mat = list(range(0,64))\n",
        "def makeMatrix(a,n1,n2):\n",
        "    M = []\n",
        "    count = 0\n",
        "    for row in range(0,n1):\n",
        "        r = []\n",
        "        for col in range(0,n2):\n",
        "            r.append(a[count])\n",
        "            count += 1\n",
        "        M.append(r)\n",
        "    return M\n",
        "A = makeMatrix(mat,8,8)\n",
        "print(A)"
      ],
      "metadata": {
        "id": "la7TVPBrBdnt",
        "colab": {
          "base_uri": "https://localhost:8080/"
        },
        "outputId": "7143120f-0c9c-44c1-d020-ae7c6f283341"
      },
      "execution_count": null,
      "outputs": [
        {
          "output_type": "stream",
          "name": "stdout",
          "text": [
            "found 4 letter 's' in Mississippi\n",
            "less than or equal to 15 in list: [11, 15, 9, 12, 15, 4, 15]  and lost: [18, 23, 17] at index positions: [1, 4, 6]\n",
            "[2, 4, 6]\n",
            "[[0, 1, 2, 3, 4, 5, 6, 7], [8, 9, 10, 11, 12, 13, 14, 15], [16, 17, 18, 19, 20, 21, 22, 23], [24, 25, 26, 27, 28, 29, 30, 31], [32, 33, 34, 35, 36, 37, 38, 39], [40, 41, 42, 43, 44, 45, 46, 47], [48, 49, 50, 51, 52, 53, 54, 55], [56, 57, 58, 59, 60, 61, 62, 63]]\n"
          ]
        }
      ]
    },
    {
      "cell_type": "code",
      "source": [
        "# while loops (conditional loop statement)\n",
        "# statements block executed as long as condition is True\n",
        "# while logical expression:\n",
        "#   statement block\n",
        "# Example:(print integers 1 to 5)\n",
        "# i = 1\n",
        "# n = 5\n",
        "# while i <= n:\n",
        "#    print(i)\n",
        "#    i += 1\n",
        "# Example:(first integer divisible by two others)\n",
        "# a = 3\n",
        "# b = 7\n",
        "# n = 1\n",
        "# while True:\n",
        "#  if (n % a == 0) and (n % b == 0):\n",
        "#    print(\"{} is the first integer divisible by {} and {}\".format(n,a,b))\n",
        "#    break\n",
        "#  n += 1\n",
        "# Example:(using range function)\n",
        "i = 1\n",
        "while i in range(4):\n",
        "   print(i)\n",
        "   i += 1"
      ],
      "metadata": {
        "id": "7W7E8SzroMsv"
      },
      "execution_count": null,
      "outputs": []
    },
    {
      "cell_type": "code",
      "source": [
        "# if-else statement (conditional statement)\n",
        "# if condition:\n",
        "    # code to run if condition is True\n",
        "# else:\n",
        "    # code to run if condition is False\n",
        "# elif:\n",
        "    # code to run if condition is False (used to introduce an additional conditition to check)\n",
        "# Example:\n",
        "x = 10\n",
        "if x > 15:\n",
        "    print(\"x is greater than 15\")\n",
        "elif x > 10:\n",
        "    print(\"x is greater than 10 but not greater than 15\")\n",
        "else:\n",
        "    print(\"x is 10 or less\")"
      ],
      "metadata": {
        "id": "2HJOVLoKiojr",
        "colab": {
          "base_uri": "https://localhost:8080/"
        },
        "outputId": "dffb96d3-dd26-4fbb-efcc-a3e5e2cf2264"
      },
      "execution_count": null,
      "outputs": [
        {
          "output_type": "stream",
          "name": "stdout",
          "text": [
            "x is 10 or less\n"
          ]
        }
      ]
    },
    {
      "cell_type": "code",
      "source": [
        "# exception handling\n",
        "# try:\n",
        "    # code that might raise an exception\n",
        "# except SomeException as e:\n",
        "    # handle the exception\n",
        "# else:\n",
        "    # code to run if no exception occurred\n",
        "# finally:\n",
        "    # code that always runs\n",
        "#Example:\n",
        "try:\n",
        "    result = 10 / 2\n",
        "except ZeroDivisionError as e:\n",
        "    print(f\"Error: {e}\")\n",
        "else:\n",
        "    print(\"No division error occurred.\")\n",
        "finally:\n",
        "    print(\"This will always execute.\")\n",
        "# Example:\n",
        "def exce_sum(a, b):\n",
        "    try:\n",
        "        if a == 0 and b == 0:\n",
        "            raise ValueError(\"Invalid number\")\n",
        "        return a + b\n",
        "    except ValueError as err:\n",
        "        return str(err)\n",
        "exce_sum(3,2)"
      ],
      "metadata": {
        "id": "TiHL73i0kmyc",
        "colab": {
          "base_uri": "https://localhost:8080/"
        },
        "outputId": "1867a325-31dc-4674-9c05-6aad94cbc56b"
      },
      "execution_count": null,
      "outputs": [
        {
          "output_type": "stream",
          "name": "stdout",
          "text": [
            "No division error occurred.\n",
            "This will always execute.\n"
          ]
        },
        {
          "output_type": "execute_result",
          "data": {
            "text/plain": [
              "5"
            ]
          },
          "metadata": {},
          "execution_count": 23
        }
      ]
    },
    {
      "cell_type": "code",
      "source": [
        "# loop control\n",
        "# pass, a placehholder to do nothing where a block of code is expected\n",
        "# break, terminate a loop early\n",
        "# continue, stop the current element and go to next iteration\n",
        "# return, end a function's execution and specify the value to return"
      ],
      "metadata": {
        "id": "tOKsZuwen8eT"
      },
      "execution_count": null,
      "outputs": []
    },
    {
      "cell_type": "code",
      "source": [
        "# define a function\n",
        "# a function is a block of reusable code that performs a specific task or set of tasks\n",
        "# a function in also an object\n",
        "# def function_name(parameters):\n",
        "#   Function body(code block)\n",
        "# perform tasks using parameters, return a value(optional)\n",
        "# Example:\n",
        "def add_numbers(a, b):\n",
        "    result = a + b\n",
        "    return result #keyword used to return a value from the function(optional).\n",
        "# if you leave ou return nothing will be returned by the function\n",
        "# Calling the function\n",
        "sum_result = add_numbers(5, 3)\n",
        "print(\"Sum:\", sum_result)\n",
        "# Example: (provide different variables when calling the function)\n",
        "def multi_operation(a, b):\n",
        "    multi = a * b\n",
        "    div = a // b\n",
        "    return multi, div\n",
        "result_multi, result_div = multi_operation(3, 2)\n",
        "print(result_multi)  # Output: 6\n",
        "print(result_div)    # Output: 1\n",
        "# Example:\n",
        "def greet():\n",
        "    print(\"Hello, World!\")\n",
        "# Calling the function\n",
        "greet()\n",
        "# functions can contain two types of arguments: positional arguments and keyword arguments.\n",
        "# Positional arguments must be included in the correct order. Keyword arguments are included with a keyword and equals sign.\n",
        "# Place keyword arguments at end of list (with a default argument) eg (x,y=0)\n",
        "# need to pass all the args unless it is default arg\n",
        "# can set a default argument as None, which allows you to change a variable without redefining the function (see future_value function)\n",
        "# can define a function with multiple undefined arguments ie (*args)\n",
        "# Example: (print all args)\n",
        "def print_args(*args):\n",
        "    print(args)\n",
        "print_args(1,2,3,\"Mum\")"
      ],
      "metadata": {
        "id": "RNQKYYRrN9jx",
        "colab": {
          "base_uri": "https://localhost:8080/"
        },
        "outputId": "940a8c8c-0a98-4251-b28a-587ba13aaa71"
      },
      "execution_count": null,
      "outputs": [
        {
          "output_type": "stream",
          "name": "stdout",
          "text": [
            "Sum: 8\n",
            "Hello, World!\n",
            "(1, 2, 3, 'Mum')\n"
          ]
        }
      ]
    },
    {
      "cell_type": "code",
      "source": [
        "# lambda is used to create small anonymous functions without a full definition\n",
        "# Example:\n",
        "def square(x): # Regular function\n",
        "    return x ** 2\n",
        "square_lambda = lambda x: x ** 2 # Equivalent lambda function\n",
        "print(square(5))\n",
        "print(square_lambda(5))\n",
        "# Example:\n",
        "my_numbers = [1, 2, 3, 4, 5]\n",
        "# Using lambda with map() to square each element in the list.\n",
        "squared_numbers = list(map(lambda x: x ** 2, my_numbers))\n",
        "print(squared_numbers)\n",
        "# Lambda also also works well with filter(), sorted()\n",
        "# Example: with filter()\n",
        "my_even_numbers = list(filter(lambda x: x % 2 == 0, my_numbers))\n",
        "print(my_even_numbers)\n",
        "# Example: with sorted()\n",
        "people = [('Alice', 30), ('Bob', 25), ('Charlie', 35), ('David', 28)]\n",
        "sorted_people = sorted(people, key=lambda person: person[1]) # sort the list based on the second element of each tuple (age)\n",
        "print(sorted_people)"
      ],
      "metadata": {
        "id": "_SYLzNO8dOfy",
        "colab": {
          "base_uri": "https://localhost:8080/"
        },
        "outputId": "c519e673-f931-4090-b262-5bad972ba4c8"
      },
      "execution_count": null,
      "outputs": [
        {
          "output_type": "stream",
          "name": "stdout",
          "text": [
            "25\n",
            "25\n",
            "[1, 4, 9, 16, 25]\n",
            "[2, 4]\n",
            "[('Bob', 25), ('David', 28), ('Alice', 30), ('Charlie', 35)]\n"
          ]
        }
      ]
    },
    {
      "cell_type": "code",
      "source": [
        "# you can use container items as function arguments\n",
        "# Example:\n",
        "def f(x,y,z):\n",
        "  return x + y * z\n",
        "my_list=[1,3,4]\n",
        "my_dict={'x':1,'y':3,'z':4}\n",
        "print(f(*my_list))\n",
        "print(f(**my_dict))"
      ],
      "metadata": {
        "colab": {
          "base_uri": "https://localhost:8080/"
        },
        "id": "eK4DV0R29sEK",
        "outputId": "2bb0be3a-723d-4e5c-d0ae-9b177a2b914c"
      },
      "execution_count": null,
      "outputs": [
        {
          "output_type": "stream",
          "name": "stdout",
          "text": [
            "13\n",
            "13\n"
          ]
        }
      ]
    },
    {
      "cell_type": "code",
      "source": [
        "# scope\n",
        "# what happens in a function stays in a function (local or function scope)\n",
        "# what happens outside a function stays outside a function (global scope)\n",
        "# you cannot access local variables outside of a function as they are not committed to memory\n",
        "# use the global keyword in a function to make a variable a global variable\n",
        "# typically used for constants or configuration values that need to be accessed from various parts of the program\n",
        "# nonlocal variables are used in nested functions, created with keyword nonlocal\n",
        "# nonlocal variables are neither in local or global scope.  If we change the value of a nonlocal variable, the changes appear in the local variable.\n",
        "# Example:\n",
        "x = 10  # This is a global variable\n",
        "def modify_global_variable():\n",
        "    global x  # Indicate that we are using the global variable 'x'\n",
        "    x += 5 # note you can access the global variable x without a return statement\n",
        "modify_global_variable()\n",
        "print(x)"
      ],
      "metadata": {
        "id": "gWKpNvoVs4FJ",
        "colab": {
          "base_uri": "https://localhost:8080/"
        },
        "outputId": "6b3313cb-e467-4567-8d5b-0cefa698b8d7"
      },
      "execution_count": null,
      "outputs": [
        {
          "output_type": "stream",
          "name": "stdout",
          "text": [
            "15\n"
          ]
        }
      ]
    },
    {
      "cell_type": "code",
      "source": [
        "# reusable code\n",
        "# print object type for each element in a list\n",
        "my_list = [\"apple\",10,True,0.1]\n",
        "for i in my_list:\n",
        "  print(type(i))"
      ],
      "metadata": {
        "id": "IIt8qfAkMzY5",
        "colab": {
          "base_uri": "https://localhost:8080/"
        },
        "outputId": "c3b1d48d-eed9-44af-de41-270931571609"
      },
      "execution_count": null,
      "outputs": [
        {
          "output_type": "stream",
          "name": "stdout",
          "text": [
            "<class 'str'>\n",
            "<class 'int'>\n",
            "<class 'bool'>\n",
            "<class 'float'>\n"
          ]
        }
      ]
    },
    {
      "cell_type": "code",
      "source": [
        "# resusable code\n",
        "# use *args as a syntax to allow a function to accept any number of positional arguments\n",
        "# Example:\n",
        "def print_args(*args):\n",
        "    for arg in args:\n",
        "        print(arg)\n",
        "print_args(1, 2, 3, 'four', [5, 6])\n",
        "# Example:\n",
        "def example_function(arg1, *args):\n",
        "    print(\"First argument:\", arg1)\n",
        "    print(\"Additional arguments:\", args)\n",
        "example_function(1, 2, 3, 4, 5)"
      ],
      "metadata": {
        "id": "xmouWqaQhNOV",
        "colab": {
          "base_uri": "https://localhost:8080/"
        },
        "outputId": "ded85703-dde2-47f3-f6e0-3fb11bbd2135"
      },
      "execution_count": null,
      "outputs": [
        {
          "output_type": "stream",
          "name": "stdout",
          "text": [
            "1\n",
            "2\n",
            "3\n",
            "four\n",
            "[5, 6]\n",
            "First argument: 1\n",
            "Additional arguments: (2, 3, 4, 5)\n"
          ]
        }
      ]
    },
    {
      "cell_type": "code",
      "source": [
        "# resuable code\n",
        "# Getter to return the value of a dictionary when passed a dictionary and a key\n",
        "def get(dict, key):\n",
        "    if key in dict:\n",
        "        return dict[key]\n",
        "    else:\n",
        "        return None\n",
        "# Getter to return the value in a nested dictionary\n",
        "def get2(dict1, key1, key2):\n",
        "    dict2 = get(dict1, key1)\n",
        "    if dict2:\n",
        "        return get(dict2, key2)\n",
        "    else:\n",
        "        return None"
      ],
      "metadata": {
        "id": "KTlfWThfRUkg"
      },
      "execution_count": null,
      "outputs": []
    },
    {
      "cell_type": "code",
      "source": [
        "# reusable code\n",
        "# counting words\n",
        "# Example: (counting unique words)\n",
        "sentence = \"I wish I could fly right up to the sky, but I cannot\"\n",
        "sentence = sentence.replace(',','') # remove commas\n",
        "my_words = sentence.split(' ') # split on spaces\n",
        "my_set = set(my_words) # converting to a set automatically removes duplicates\n",
        "print(len(my_set))\n",
        "# Example: (counting words using a dictionary)\n",
        "words = {}\n",
        "for word in my_words:\n",
        "  if word in words: words[word] += 1\n",
        "  else: words[word] =1\n",
        "print(words)"
      ],
      "metadata": {
        "colab": {
          "base_uri": "https://localhost:8080/"
        },
        "id": "esjF_c56DUf9",
        "outputId": "249165e3-cfaf-4e08-e932-5204eeca37d5"
      },
      "execution_count": null,
      "outputs": [
        {
          "output_type": "stream",
          "name": "stdout",
          "text": [
            "11\n",
            "{'I': 3, 'wish': 1, 'could': 1, 'fly': 1, 'right': 1, 'up': 1, 'to': 1, 'the': 1, 'sky': 1, 'but': 1, 'cannot': 1}\n"
          ]
        }
      ]
    },
    {
      "cell_type": "code",
      "source": [
        "# cashflows\n",
        "# multiply existing cashflows by 1.1 from year 1\n",
        "cf = [-200,20,50,70,100,50]\n",
        "cf_new = [-200]\n",
        "for i in range(1,len(cf)):\n",
        "  new = round(cf[i] * 1.1)\n",
        "  cf_new.append(new)\n",
        "print(cf_new)\n",
        "for i in range(len(cf)):\n",
        "  print(\"The Cashflow at t{} is {}.\".format(i,cf[i]))"
      ],
      "metadata": {
        "id": "EhoSRveHM28w",
        "colab": {
          "base_uri": "https://localhost:8080/"
        },
        "outputId": "5dc9294b-3b9c-4e92-8cc3-c941fdd444fe"
      },
      "execution_count": null,
      "outputs": [
        {
          "output_type": "stream",
          "name": "stdout",
          "text": [
            "[-200, 22, 55, 77, 110, 55]\n",
            "The Cashflow at t0 is -200.\n",
            "The Cashflow at t1 is 20.\n",
            "The Cashflow at t2 is 50.\n",
            "The Cashflow at t3 is 70.\n",
            "The Cashflow at t4 is 100.\n",
            "The Cashflow at t5 is 50.\n"
          ]
        }
      ]
    },
    {
      "cell_type": "code",
      "source": [
        "# first profitable year\n",
        "cf = [-200,-20,50,70,100,50]\n",
        "for i in range (len(cf)):\n",
        "  if cf[i] > 0:\n",
        "    print(\"Year {} is the first profitable year\".format(i))\n",
        "    break"
      ],
      "metadata": {
        "id": "UAHMD3IdPwVW",
        "colab": {
          "base_uri": "https://localhost:8080/"
        },
        "outputId": "a64759e3-3246-4784-b4fb-db8fbde043e8"
      },
      "execution_count": null,
      "outputs": [
        {
          "output_type": "stream",
          "name": "stdout",
          "text": [
            "Year 2 is the first profitable year\n"
          ]
        }
      ]
    },
    {
      "cell_type": "code",
      "source": [
        "# payback period\n",
        "cf = [-200,20,50,70,100,50]\n",
        "cum_cf = 0\n",
        "for i in range(len(cf)):\n",
        "  cum_cf += cf[i]\n",
        "  print(cum_cf)\n",
        "  if cum_cf > 0:\n",
        "    print(\"The payback period is {} years\".format(i))\n",
        "    break\n",
        "  elif cum_cf <=0 and i == len(cf)-1:\n",
        "    print(\"The project does not break even.\")"
      ],
      "metadata": {
        "id": "E8OODFYLOFF7",
        "colab": {
          "base_uri": "https://localhost:8080/"
        },
        "outputId": "c37b2284-c29d-4d0d-d9e6-24cf1cb3f74f"
      },
      "execution_count": null,
      "outputs": [
        {
          "output_type": "stream",
          "name": "stdout",
          "text": [
            "-200\n",
            "-180\n",
            "-130\n",
            "-60\n",
            "40\n",
            "The payback period is 4 years\n"
          ]
        }
      ]
    },
    {
      "cell_type": "code",
      "source": [
        "# compound interest formula\n",
        "pv = 100\n",
        "r = 0.04\n",
        "n = 6\n",
        "comp_policy = 1\n",
        "def future_value(pv,rate,nyears,m=None):\n",
        "  if not m:\n",
        "    m = comp_policy\n",
        "  fv = pv * (1+rate/m) ** (nyears * m)\n",
        "  return fv\n",
        "future_value(pv=pv,rate=r,nyears=n,m=12) #if m not specified then comp_policy applied, if m is specified use that value"
      ],
      "metadata": {
        "id": "yPPLPLozUlnZ",
        "colab": {
          "base_uri": "https://localhost:8080/"
        },
        "outputId": "fb60d819-4310-4ad7-fea5-f006f83cd830"
      },
      "execution_count": null,
      "outputs": [
        {
          "output_type": "execute_result",
          "data": {
            "text/plain": [
              "127.07418790791326"
            ]
          },
          "metadata": {},
          "execution_count": 48
        }
      ]
    },
    {
      "cell_type": "code",
      "source": [
        "# npv formula\n",
        "cf = [-200,20,50,70,100,50]\n",
        "r = 0.06\n",
        "def npv (rate,values):\n",
        "  npv = 0\n",
        "  for i in range (len(values)):\n",
        "    npv += values[i]/(1+rate)**(i)\n",
        "  return npv\n",
        "npv(rate=r,values=cf)\n",
        "#print(npv)"
      ],
      "metadata": {
        "colab": {
          "base_uri": "https://localhost:8080/"
        },
        "id": "LcOE1NPBcxUe",
        "outputId": "f5e8b4a7-63e9-4265-e46b-10aeee679e24"
      },
      "execution_count": null,
      "outputs": [
        {
          "output_type": "execute_result",
          "data": {
            "text/plain": [
              "38.71337130837991"
            ]
          },
          "metadata": {},
          "execution_count": 49
        }
      ]
    },
    {
      "cell_type": "code",
      "source": [
        "# irr formula\n",
        "cf = [-200,20,50,70,100,50]\n",
        "r = 0.06\n",
        "def irr(rate,values,guess=0.05):\n",
        "  step=0.000001\n",
        "  target_npv=0\n",
        "  tolerance=0.001\n",
        "  while True:\n",
        "    f = 1+guess\n",
        "    npv = 0\n",
        "    for i in range(len(values)):\n",
        "      npv += values[i]/f**(i)\n",
        "    diff = npv - target_npv\n",
        "    if abs(diff) > tolerance:\n",
        "      if diff < 0:\n",
        "        guess -= step\n",
        "      elif diff > 0:\n",
        "        guess += step\n",
        "    else:\n",
        "      break\n",
        "  return guess\n",
        "irr(rate=r,values=cf,guess=0.05)"
      ],
      "metadata": {
        "colab": {
          "base_uri": "https://localhost:8080/"
        },
        "id": "ApiVSWZCgUci",
        "outputId": "d6fa6e6c-6f3e-46fa-d34e-69ec8275427c"
      },
      "execution_count": null,
      "outputs": [
        {
          "output_type": "execute_result",
          "data": {
            "text/plain": [
              "0.11906800000006908"
            ]
          },
          "metadata": {},
          "execution_count": 50
        }
      ]
    },
    {
      "cell_type": "code",
      "source": [
        "# math module\n",
        "# provides a set of mathematical operations and functions for more advanced mathematical calculations\n",
        "# import math\n",
        "# Constants\n",
        "# math.pi, 3.141592653589793\n",
        "# math.e, 2.718281828459045\n",
        "# Mathematical functions\n",
        "# math.sqrt(25) 5.0 square root\n",
        "# math.fabs(-10) 10.0 absolute value\n",
        "# math.ceil(4.3) 5 ceiling\n",
        "# math.floor(4.9) 4 floor\n",
        "# math.pow(2, 3) 8.0 2**3\n",
        "# Trigonometric functions (input in radians)\n",
        "# math.sin(math.pi/2)) 1.0\n",
        "# math.cos(0) Output: 1.0\n",
        "# math.tan(math.pi/4) Output: 0.9999999999999999\n",
        "# Logarithmic functions\n",
        "# math.log(10)) 2.302585092994046 natural logitihm of 10\n",
        "# math.log10(100)) 2.0 base 10 logarithm of 100"
      ],
      "metadata": {
        "id": "1JyXpR-A9JuA"
      },
      "execution_count": null,
      "outputs": []
    },
    {
      "cell_type": "code",
      "source": [
        "# datetime module\n",
        "# provides classes for working with dates and times\n",
        "# datetime class is a combination of date and time\n",
        "# Example: (current datetime object)\n",
        "from datetime import datetime, date, time, timedelta\n",
        "current_datetime = datetime.now()\n",
        "print(current_datetime)\n",
        "print(current_datetime.year) #print just the year\n",
        "# Example: (construct a specific date and time object)\n",
        "specific_datetime = datetime(2022, 12, 1, 10, 30)\n",
        "print(specific_datetime)\n",
        "# Example: (construct a specific date object)\n",
        "my_date = date(2022, 12, 1)\n",
        "print(my_date)\n",
        "# Example: (construct a specific time object)\n",
        "my_time = time(10, 30)\n",
        "print(my_time)\n",
        "# Example: (timedelta object, difference between two dates or times)\n",
        "today = datetime.now()\n",
        "tomorrow = today + timedelta(days=1)\n",
        "print(today)\n",
        "print(tomorrow)\n",
        "from datetime import datetime\n",
        "# Example: (parsing strings into datetime objects)\n",
        "date_string = \"2022-12-01 10:30:00\"\n",
        "parsed_datetime = datetime.strptime(date_string, \"%Y-%m-%d %H:%M:%S\")\n",
        "print(parsed_datetime)\n",
        "# Example: (formatting date objects into readable strings)\n",
        "print(current_datetime.strftime(\"%B\")) # current month (codes for other formats)\n",
        "# Unix Epoch time is the number of seconds since 1 January 1970.\n",
        "# unixtime = time.time() # returns the time now in seconds since midnight 1/1/70.\n",
        "# dt_now = datetime.datetime.now() # returns a local datetime now (this is timezone aware)\n",
        "# utc_now = datetime.datetime.utcnow() # returns the UTC datetime now # UTC is set to Greenwich.\n",
        "# localtime = reference.LocalTimezone()\n",
        "# localtime.tzname(today) #' returns name of tz where your computer is located"
      ],
      "metadata": {
        "id": "R7K77qHoBV2v",
        "colab": {
          "base_uri": "https://localhost:8080/"
        },
        "outputId": "c035eb57-56e5-4648-ef7e-c286b14a0e4b"
      },
      "execution_count": null,
      "outputs": [
        {
          "output_type": "stream",
          "name": "stdout",
          "text": [
            "2023-11-30 15:13:17.799046\n",
            "2023\n",
            "2022-12-01 10:30:00\n",
            "2022-12-01\n",
            "10:30:00\n",
            "2023-11-30 15:13:17.800267\n",
            "2023-12-01 15:13:17.800267\n",
            "2022-12-01 10:30:00\n",
            "November\n"
          ]
        }
      ]
    },
    {
      "cell_type": "code",
      "source": [
        "# random module\n",
        "# gerenates pseudo-random numbers (ie not truly random as generated with deterministic functions)\n",
        "# Example:\n",
        "import random\n",
        "random_number = random.random() # random float number in the range [0.0, 1.0]\n",
        "print(random_number)\n",
        "random_float = random.uniform(2.5, 5.5) # random float in specified range\n",
        "print(random_float)\n",
        "random_integer = random.randint(1, 10) # random integer in specified range\n",
        "print(random_integer)\n",
        "my_list = [1, 2, 3, 4, 5]\n",
        "random_element = random.choice(my_list) # random element from a given sequence\n",
        "print(random_element)\n",
        "random.shuffle(my_list) # shuffle the elements in a given sequence space\n",
        "print(my_list)\n",
        "random_sample = random.sample(my_list, 3) # a k-length list of unique elements from a population\n",
        "print(random_sample)\n",
        "# use random.seed() to initialize the random numebr generator with a particular seed value\n",
        "# This enables reproducbility of random number sequences.\n",
        "# Example:\n",
        "# random.seed(42)\n",
        "# without a seed value the random number generator is based on the system time"
      ],
      "metadata": {
        "colab": {
          "base_uri": "https://localhost:8080/"
        },
        "id": "5LoSY9b4BYqQ",
        "outputId": "05bc2a54-6dc7-4a64-9edd-66012cd28a97"
      },
      "execution_count": null,
      "outputs": [
        {
          "output_type": "stream",
          "name": "stdout",
          "text": [
            "0.15911778471714844\n",
            "5.080307311096613\n",
            "10\n",
            "4\n",
            "[3, 1, 2, 4, 5]\n",
            "[2, 4, 1]\n"
          ]
        }
      ]
    },
    {
      "cell_type": "code",
      "source": [
        "# regular expressions module (re)\n",
        "# used for pattern matching and searching in strings. Lots of options are available\n",
        "# Example\n",
        "import re\n",
        "#Example (search for the pattern in the text)\n",
        "pattern = r\"apple\"\n",
        "text = \"I like apples and oranges.\"\n",
        "match = re.search(pattern, text)\n",
        "if match:\n",
        "    print(\"Pattern found:\", match.group())\n",
        "else:\n",
        "    print(\"Pattern not found.\")\n",
        "# Example: (find all matches for whole words ending with 'es')\n",
        "pattern = r\"\\b\\w+es\\b\" #\\b is a word boundary #\\w+ one or more charachters\n",
        "text = \"I have two apples and three oranges.\"\n",
        "matches = re.findall(pattern, text) # find all occurrence of specified pattern\n",
        "print(\"Matches:\", matches)\n",
        "# Example (replace digits with other charachters)\n",
        "pattern = r\"\\d+\" #\\d matches any digit (0-9) +matches one or more occurrences of the preceding charachter or group\n",
        "text = \"Today is the 25th of December.\"\n",
        "result = re.sub(pattern, \"xx\", text) # find all and replace\n",
        "print(\"Result:\", result)\n",
        "# Example: (split a string into a list of substrings)\n",
        "pattern = r\"\\s+\" # r\"\\s+\" matches one or more whitespace characters (spaces, tabs, or newlines)\n",
        "text = \"This is a sample sentence.\"\n",
        "# Split the text based on whitespace characters\n",
        "result = re.split(pattern, text)\n",
        "print(\"Result:\", result)\n",
        "# Example: (extract day, month, and year using groups)\n",
        "pattern = r\"(\\d{2})-(\\d{2})-(\\d{4})\"\n",
        "# (\\d{2}): capturing group for two digits (month).\n",
        "# (\\d{4}): Capturing group for four digits (year).\n",
        "# - literal hyphen separator\n",
        "text = \"Date: 12-25-2022\"\n",
        "match = re.search(pattern, text)\n",
        "if match:\n",
        "    day, month, year = match.groups() #matches values from captured groups of digits\n",
        "    print(\"Day:\", day)\n",
        "    print(\"Month:\", month)\n",
        "    print(\"Year:\", year)\n",
        "else:\n",
        "    print(\"Pattern not found.\")"
      ],
      "metadata": {
        "id": "n4sLxCwyF7Sw",
        "colab": {
          "base_uri": "https://localhost:8080/"
        },
        "outputId": "7fc81955-5ed6-4643-cbbb-4fcd405e6e64"
      },
      "execution_count": 3,
      "outputs": [
        {
          "output_type": "stream",
          "name": "stdout",
          "text": [
            "Pattern found: apple\n",
            "Matches: ['apples', 'oranges']\n",
            "Result: Today is the xxth of December.\n",
            "Result: ['This', 'is', 'a', 'sample', 'sentence.']\n",
            "Day: 12\n",
            "Month: 25\n",
            "Year: 2022\n"
          ]
        }
      ]
    },
    {
      "cell_type": "code",
      "source": [
        "# more on keywords\n",
        "# None is an empty value constant\n",
        "# pass is placeholder"
      ],
      "metadata": {
        "id": "yfBoKepN5M9J"
      },
      "execution_count": null,
      "outputs": []
    },
    {
      "cell_type": "code",
      "source": [
        "# import, from, as keywords\n",
        "# import keyword is used to bring a module (a file) into the current namespace.\n",
        "# the import statement allows you to use fucntions, classes or variables defined in another module.\n",
        "# import math, imports the entire math module\n",
        "# from math import math, imports just the sqrt function\n",
        "# import math as m allows a shorter alias to be used\n",
        "# if __name__ == \"__main__\":\n",
        "#    main()\n",
        "# the above construct is used only run code if a module is run directly (i.e. not imported as a module)"
      ],
      "metadata": {
        "id": "j2-GPYB3MX6Y"
      },
      "execution_count": null,
      "outputs": []
    },
    {
      "cell_type": "code",
      "source": [
        "# destructuring: unpacking operators * works on any type of collection, ** only for dictionaries\n",
        "a = [1,2,3,4]\n",
        "print(a)\n",
        "print(*a) # prints the elements of the list independently\n",
        "w,x,y,z = a # unpacking by hand, assigns contents of list to new variables\n",
        "print(w)\n",
        "a = [1,2,3,4] # unpack to 2 pieces\n",
        "x, *rest = a # pulls off first element as x, and assigns remainder to rest\n",
        "print(x)\n",
        "print(rest)\n",
        "# when working with tuples, the rest will be a list\n",
        "b = [5,6]\n",
        "c = [*a, *b] # unpacking can be used to concatenate lists (could also use a + b or extend())\n",
        "print(c)\n",
        "while(c): # while c is True (ie whilst c has elements)\n",
        "  x,*c = c # this while loop prints each element of c. It selects the first element of c as x, then moves the remainder to c\n",
        "  print(x)"
      ],
      "metadata": {
        "id": "K-khw7mrF0iR",
        "colab": {
          "base_uri": "https://localhost:8080/"
        },
        "outputId": "ea983c63-8cde-48dd-c0a6-909e6e8965a2"
      },
      "execution_count": 1,
      "outputs": [
        {
          "output_type": "stream",
          "name": "stdout",
          "text": [
            "[1, 2, 3, 4]\n",
            "1 2 3 4\n",
            "1\n",
            "1\n",
            "[2, 3, 4]\n",
            "[1, 2, 3, 4, 5, 6]\n",
            "1\n",
            "2\n",
            "3\n",
            "4\n",
            "5\n",
            "6\n"
          ]
        }
      ]
    },
    {
      "cell_type": "code",
      "source": [
        "# passing named and unnamed arguments to a function using unpacking operators\n",
        "# args is used to pass unnamed arguments, and kwargs is used to pass named arguments\n",
        "def addition(x,y):\n",
        "  return x + y\n",
        "print(addition(3,5))\n",
        "print(addition(y=5,x=3)) # order with named arguments doesn't matter\n",
        "def add(*args): # args is a tuple\n",
        "    result = 0\n",
        "    for x in args:\n",
        "        result += x\n",
        "    return result\n",
        "print(add(20,30,40,50)) # we can now pass in any number of unnamed arguments\n",
        "# *kwargs is used to pass a key-worded variable of arguments to a function eg a dictionary\n",
        "def sum(*args, **kwargs): # args is a tuple\n",
        "    result = 0\n",
        "    for x in args:\n",
        "        result += x\n",
        "    for k, v in kwargs.items():\n",
        "        result += v\n",
        "    return result\n",
        "kwargs = {\"arg1\":20, \"arg2\":30} # a dictionary\n",
        "print(sum(20,30,**kwargs))\n",
        "# Example with named variables\n",
        "def mult_keyword(**kwargs):\n",
        "    result = 1\n",
        "    for i in kwargs:\n",
        "        result = result*kwargs[i]\n",
        "    return result\n",
        "print(mult_keyword(a=2,b=3,c=3))\n",
        "print(mult_keyword(a=1,b=5,c=2,d=3))"
      ],
      "metadata": {
        "id": "WVdYzCOYF0f0",
        "colab": {
          "base_uri": "https://localhost:8080/"
        },
        "outputId": "29319099-ed91-40c8-ae76-e78d77590d87"
      },
      "execution_count": 2,
      "outputs": [
        {
          "output_type": "stream",
          "name": "stdout",
          "text": [
            "8\n",
            "8\n",
            "140\n",
            "100\n",
            "18\n",
            "30\n"
          ]
        }
      ]
    },
    {
      "cell_type": "code",
      "source": [
        "# decoration or wrapping functions wraps a function in another function\n",
        "# we can use the same decoration and wrapper for multiple functions\n",
        "# wrapping function can add additional functionality before or after calling the original function.\n",
        "def hello():\n",
        "    return \"Hello World\"\n",
        "print(hello())\n",
        "def wrapper_1(func):\n",
        "    greeting = \"Wrappers says\"\n",
        "    return f\"{greeting} {func()} !!!\"\n",
        "print(wrapper_1(hello))\n",
        "\n",
        "# more elegant is..\n",
        "# Example (top is wrapper function, bottom is original function)\n",
        "def mydeco_1(func):\n",
        "    def wrapper_2():\n",
        "        greeting = \"Wrappers says\"\n",
        "        return f\"{greeting} {func()} !!!\"\n",
        "    return wrapper_2\n",
        "hello = mydeco_1(hello) # this calls the original function below inside the wrapper\n",
        "\n",
        "@ mydeco_1 # @ is followed by decorator function name\n",
        "def hello():\n",
        "    return \"Hello World\"\n",
        "print(hello())\n",
        "\n",
        "# Example (top is wrapper function, bottom is original function)\n",
        "from functools import wraps # used to preserve the metadata of the original function when creating wrapper functions or decorators\n",
        "def mydeco_2(func):\n",
        "    @ wraps(func) # helps with debugging\n",
        "    def wrapper_3(*args,**kwargs):\n",
        "        result = func(*args,**kwargs)\n",
        "        return f'mydeocrated result: {result} !!!'\n",
        "    return wrapper_3\n",
        "sum = mydeco_2(sum) # this calls the original function inside the wrapper\n",
        "\n",
        "@ mydeco_2 # @ is followed by decorator function name\n",
        "def sum(*args, **kwargs): # args is a tuple\n",
        "    result = 0\n",
        "    for x in args:\n",
        "        result += x\n",
        "    for k, v in kwargs.items():\n",
        "        result += v\n",
        "    return result\n",
        "kwargs = {\"arg1\":20, \"arg2\":30} # a dictionary\n",
        "args = (30,40)\n",
        "print(sum(*args,**kwargs))"
      ],
      "metadata": {
        "colab": {
          "base_uri": "https://localhost:8080/"
        },
        "id": "bnJwmV4e4HFL",
        "outputId": "3d9eea8a-3b40-4af2-f1e1-df9543ae9623"
      },
      "execution_count": null,
      "outputs": [
        {
          "output_type": "stream",
          "name": "stdout",
          "text": [
            "Hello World\n",
            "Wrappers says Hello World !!!\n",
            "Wrappers says Hello World !!!\n",
            "mydeocrated result: 120 !!!\n"
          ]
        }
      ]
    },
    {
      "cell_type": "code",
      "source": [
        "# you can assign a function to a variable and later execute the variable as a function\n",
        "# you can pass the function as a parameter to another function\n",
        "def sqrt(num):\n",
        "    return num**0.5\n",
        "def square(num):\n",
        "    return num**2\n",
        "def do_math(num, function):\n",
        "    return function(num)\n",
        "print(do_math(16, sqrt))\n",
        "print(do_math(8, square))"
      ],
      "metadata": {
        "colab": {
          "base_uri": "https://localhost:8080/"
        },
        "id": "WdhPdkPWWKVI",
        "outputId": "5aee8923-3ab1-4fc6-e327-cee7e91e0625"
      },
      "execution_count": null,
      "outputs": [
        {
          "output_type": "stream",
          "name": "stdout",
          "text": [
            "4.0\n",
            "64\n"
          ]
        }
      ]
    }
  ]
}